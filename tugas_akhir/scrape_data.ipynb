{
  "nbformat": 4,
  "nbformat_minor": 0,
  "metadata": {
    "colab": {
      "name": "scrape_data.ipynb",
      "provenance": [],
      "collapsed_sections": [],
      "authorship_tag": "ABX9TyNdTjjFD7JGVO4w6dy+KanI",
      "include_colab_link": true
    },
    "kernelspec": {
      "name": "python3",
      "display_name": "Python 3"
    }
  },
  "cells": [
    {
      "cell_type": "markdown",
      "metadata": {
        "id": "view-in-github",
        "colab_type": "text"
      },
      "source": [
        "<a href=\"https://colab.research.google.com/github/uadyf/Bootcamp-2021/blob/main/tugas_akhir/scrape_data.ipynb\" target=\"_parent\"><img src=\"https://colab.research.google.com/assets/colab-badge.svg\" alt=\"Open In Colab\"/></a>"
      ]
    },
    {
      "cell_type": "code",
      "metadata": {
        "id": "SfqWVbdGPmA9"
      },
      "source": [
        "import pandas as pd\r\n",
        "import tweepy\r\n",
        "import matplotlib.pyplot as plt\r\n",
        "import numpy as np\r\n",
        "import sqlite3"
      ],
      "execution_count": null,
      "outputs": []
    },
    {
      "cell_type": "code",
      "metadata": {
        "id": "IaO9KB2RRxGD"
      },
      "source": [
        "ACCESS = 'ACCESS'\r\n",
        "ACCESS_S = 'ACCESS_S'\r\n",
        "TOKEN = 'TOKEN'\r\n",
        "TOKEN_S = 'TOKEN_S'"
      ],
      "execution_count": null,
      "outputs": []
    },
    {
      "cell_type": "code",
      "metadata": {
        "id": "De2DQ-jVSC9X"
      },
      "source": [
        "auth = tweepy.OAuthHandler(ACCESS, ACCESS_S)\r\n",
        "auth.set_access_token(TOKEN, TOKEN_S)\r\n",
        "\r\n",
        "api = tweepy.API(auth, wait_on_rate_limit=True)"
      ],
      "execution_count": null,
      "outputs": []
    },
    {
      "cell_type": "code",
      "metadata": {
        "id": "3xF0apdOWsqu"
      },
      "source": [
        "def filterTweet(tweet, key_outside, key_inside=None):\r\n",
        "  if key_inside is not None:\r\n",
        "    result1 = tweet._json[str(key_outside)][str(key_inside)]\r\n",
        "    return result1\r\n",
        "  else:\r\n",
        "    result2 = tweet._json[str(key_outside)]\r\n",
        "    return result2\r\n",
        "\r\n",
        "def searchTweet(query, since, until, items):\r\n",
        "  inside_user = ['id', 'name', 'screen_name', 'location', 'created_at', 'followers_count', 'friends_count', 'verified']\r\n",
        "  inside_tweet = ['id', 'created_at', 'full_text']\r\n",
        "\r\n",
        "  user_out = []\r\n",
        "  tweet_out = []\r\n",
        "  for tweet in tweepy.Cursor(api.search, q=query, since=since, until=until, tweet_mode='extended').items(items):\r\n",
        "    out_user = []\r\n",
        "    out_tweet = []\r\n",
        "    \r\n",
        "    for col_user in inside_user:\r\n",
        "      result_user = filterTweet(tweet, 'user', col_user)\r\n",
        "      out_user.append(result_user)\r\n",
        "    \r\n",
        "    for tw in inside_tweet:\r\n",
        "      result_tw = filterTweet(tweet, tw)\r\n",
        "      out_tweet.append(result_tw)\r\n",
        "      \r\n",
        "    user_out.append(out_user)\r\n",
        "    tweet_out.append(out_tweet)\r\n",
        "  final_user = replaceToNan(user_out)\r\n",
        "  final_tweet = replaceToNan(tweet_out)\r\n",
        "  return final_user, final_tweet\r\n",
        "\r\n",
        "def replaceToNan(list_):\r\n",
        "  replaced = []\r\n",
        "  for i in range(len(list_)):\r\n",
        "    new = [np.nan if val=='' else val for val in list_[i]]\r\n",
        "    replaced.append(new)\r\n",
        "  return replaced\r\n",
        "\r\n",
        "def loop(query):\r\n",
        "  SINCE = '2021-01-28'\r\n",
        "  UNTIL = '2021-02-05'\r\n",
        "  ITEMS = 1000\r\n",
        "  \r\n",
        "  out_user = []\r\n",
        "  out_tweet = []\r\n",
        "  for i in query:\r\n",
        "    user_all = []\r\n",
        "    tweeted = []\r\n",
        "    user, tweet = searchTweet(i, SINCE, UNTIL, ITEMS)\r\n",
        "    user_all.append(user)\r\n",
        "    tweeted.append(tweet)\r\n",
        "\r\n",
        "    out_user.append(user_all)\r\n",
        "    out_tweet.append(tweeted)\r\n",
        "  return out_user, out_tweet\r\n",
        "\r\n",
        "def con(path):\r\n",
        "  try:\r\n",
        "    con = sqlite3.connect(str(path))\r\n",
        "    return con\r\n",
        "  except Error:\r\n",
        "    print(Error)"
      ],
      "execution_count": null,
      "outputs": []
    },
    {
      "cell_type": "code",
      "metadata": {
        "id": "YVLrfRyIDX6q"
      },
      "source": [
        "q = ['Rachel+Vennya', '#Selingkuh']\r\n",
        "out_user, out_tweet = loop(q)"
      ],
      "execution_count": null,
      "outputs": []
    },
    {
      "cell_type": "code",
      "metadata": {
        "id": "vyMNCUSNN_ia"
      },
      "source": [
        "inside_user = ['id', 'name', 'screen_name', 'location', 'created_at', 'followers_count', 'friends_count', 'verified']\r\n",
        "inside_tweet = ['id', 'created_at', 'full_text']\r\n",
        "df_user = pd.DataFrame(out_user[0][0]+out_user[1][0], columns=inside_user)\r\n",
        "df_tweet = pd.DataFrame(out_tweet[0][0]+out_tweet[1][0], columns=inside_tweet)"
      ],
      "execution_count": null,
      "outputs": []
    },
    {
      "cell_type": "code",
      "metadata": {
        "colab": {
          "base_uri": "https://localhost:8080/",
          "height": 573
        },
        "id": "UNN_ji1kQFJN",
        "outputId": "c7a73a8d-b1bf-400d-a809-f9ddae560c60"
      },
      "source": [
        "df_user"
      ],
      "execution_count": null,
      "outputs": [
        {
          "output_type": "execute_result",
          "data": {
            "text/html": [
              "<div>\n",
              "<style scoped>\n",
              "    .dataframe tbody tr th:only-of-type {\n",
              "        vertical-align: middle;\n",
              "    }\n",
              "\n",
              "    .dataframe tbody tr th {\n",
              "        vertical-align: top;\n",
              "    }\n",
              "\n",
              "    .dataframe thead th {\n",
              "        text-align: right;\n",
              "    }\n",
              "</style>\n",
              "<table border=\"1\" class=\"dataframe\">\n",
              "  <thead>\n",
              "    <tr style=\"text-align: right;\">\n",
              "      <th></th>\n",
              "      <th>id</th>\n",
              "      <th>name</th>\n",
              "      <th>screen_name</th>\n",
              "      <th>location</th>\n",
              "      <th>created_at</th>\n",
              "      <th>followers_count</th>\n",
              "      <th>friends_count</th>\n",
              "      <th>verified</th>\n",
              "    </tr>\n",
              "  </thead>\n",
              "  <tbody>\n",
              "    <tr>\n",
              "      <th>0</th>\n",
              "      <td>892670807121330177</td>\n",
              "      <td>Ferdy Agusman</td>\n",
              "      <td>gusmanerdy</td>\n",
              "      <td>Medan</td>\n",
              "      <td>Wed Aug 02 08:58:00 +0000 2017</td>\n",
              "      <td>6</td>\n",
              "      <td>14</td>\n",
              "      <td>False</td>\n",
              "    </tr>\n",
              "    <tr>\n",
              "      <th>1</th>\n",
              "      <td>277434635</td>\n",
              "      <td>Karina angelika</td>\n",
              "      <td>karigel13</td>\n",
              "      <td>between his lungs</td>\n",
              "      <td>Tue Apr 05 11:03:15 +0000 2011</td>\n",
              "      <td>417</td>\n",
              "      <td>378</td>\n",
              "      <td>False</td>\n",
              "    </tr>\n",
              "    <tr>\n",
              "      <th>2</th>\n",
              "      <td>544170238</td>\n",
              "      <td>Kanjeng Sultan</td>\n",
              "      <td>ayiekkresna</td>\n",
              "      <td>Kota Surabaya, Jawa Timur</td>\n",
              "      <td>Tue Apr 03 10:42:42 +0000 2012</td>\n",
              "      <td>590</td>\n",
              "      <td>333</td>\n",
              "      <td>False</td>\n",
              "    </tr>\n",
              "    <tr>\n",
              "      <th>3</th>\n",
              "      <td>1356180001888976899</td>\n",
              "      <td>UrExtacy</td>\n",
              "      <td>6hndrd6ty6</td>\n",
              "      <td>Bikini Bottom</td>\n",
              "      <td>Mon Feb 01 09:58:22 +0000 2021</td>\n",
              "      <td>2</td>\n",
              "      <td>114</td>\n",
              "      <td>False</td>\n",
              "    </tr>\n",
              "    <tr>\n",
              "      <th>4</th>\n",
              "      <td>1168873359741874176</td>\n",
              "      <td>bela</td>\n",
              "      <td>twingkerbelll</td>\n",
              "      <td>NaN</td>\n",
              "      <td>Tue Sep 03 13:08:38 +0000 2019</td>\n",
              "      <td>42</td>\n",
              "      <td>48</td>\n",
              "      <td>False</td>\n",
              "    </tr>\n",
              "    <tr>\n",
              "      <th>...</th>\n",
              "      <td>...</td>\n",
              "      <td>...</td>\n",
              "      <td>...</td>\n",
              "      <td>...</td>\n",
              "      <td>...</td>\n",
              "      <td>...</td>\n",
              "      <td>...</td>\n",
              "      <td>...</td>\n",
              "    </tr>\n",
              "    <tr>\n",
              "      <th>1995</th>\n",
              "      <td>1356663513024880641</td>\n",
              "      <td>Dania Putri</td>\n",
              "      <td>DaniaPu19568142</td>\n",
              "      <td>NaN</td>\n",
              "      <td>Tue Feb 02 17:59:41 +0000 2021</td>\n",
              "      <td>5</td>\n",
              "      <td>0</td>\n",
              "      <td>False</td>\n",
              "    </tr>\n",
              "    <tr>\n",
              "      <th>1996</th>\n",
              "      <td>1270945722259529728</td>\n",
              "      <td>AL</td>\n",
              "      <td>rohfakboi</td>\n",
              "      <td>NaN</td>\n",
              "      <td>Thu Jun 11 05:07:38 +0000 2020</td>\n",
              "      <td>34</td>\n",
              "      <td>105</td>\n",
              "      <td>False</td>\n",
              "    </tr>\n",
              "    <tr>\n",
              "      <th>1997</th>\n",
              "      <td>1291683283516850178</td>\n",
              "      <td>Rexsy Aprino Sanggen</td>\n",
              "      <td>rexsy_aprino</td>\n",
              "      <td>Central Borneo, Indonesia</td>\n",
              "      <td>Fri Aug 07 10:31:18 +0000 2020</td>\n",
              "      <td>5</td>\n",
              "      <td>5</td>\n",
              "      <td>False</td>\n",
              "    </tr>\n",
              "    <tr>\n",
              "      <th>1998</th>\n",
              "      <td>1011527885876654080</td>\n",
              "      <td>pijat panggilan</td>\n",
              "      <td>SpaPanggilan</td>\n",
              "      <td>surabaya, malang, palembang,</td>\n",
              "      <td>Tue Jun 26 08:33:36 +0000 2018</td>\n",
              "      <td>2072</td>\n",
              "      <td>222</td>\n",
              "      <td>False</td>\n",
              "    </tr>\n",
              "    <tr>\n",
              "      <th>1999</th>\n",
              "      <td>1011527885876654080</td>\n",
              "      <td>pijat panggilan</td>\n",
              "      <td>SpaPanggilan</td>\n",
              "      <td>surabaya, malang, palembang,</td>\n",
              "      <td>Tue Jun 26 08:33:36 +0000 2018</td>\n",
              "      <td>2072</td>\n",
              "      <td>222</td>\n",
              "      <td>False</td>\n",
              "    </tr>\n",
              "  </tbody>\n",
              "</table>\n",
              "<p>2000 rows × 8 columns</p>\n",
              "</div>"
            ],
            "text/plain": [
              "                       id                  name  ... friends_count verified\n",
              "0      892670807121330177         Ferdy Agusman  ...            14    False\n",
              "1               277434635       Karina angelika  ...           378    False\n",
              "2               544170238        Kanjeng Sultan  ...           333    False\n",
              "3     1356180001888976899              UrExtacy  ...           114    False\n",
              "4     1168873359741874176                  bela  ...            48    False\n",
              "...                   ...                   ...  ...           ...      ...\n",
              "1995  1356663513024880641           Dania Putri  ...             0    False\n",
              "1996  1270945722259529728                    AL  ...           105    False\n",
              "1997  1291683283516850178  Rexsy Aprino Sanggen  ...             5    False\n",
              "1998  1011527885876654080       pijat panggilan  ...           222    False\n",
              "1999  1011527885876654080       pijat panggilan  ...           222    False\n",
              "\n",
              "[2000 rows x 8 columns]"
            ]
          },
          "metadata": {
            "tags": []
          },
          "execution_count": 44
        }
      ]
    },
    {
      "cell_type": "code",
      "metadata": {
        "id": "E4THbH-tTN9u"
      },
      "source": [
        "df_user.to_sql('userr', con('/content/Basisdata(raw).db'))"
      ],
      "execution_count": null,
      "outputs": []
    },
    {
      "cell_type": "code",
      "metadata": {
        "colab": {
          "base_uri": "https://localhost:8080/",
          "height": 406
        },
        "id": "9YKy84ewS4L_",
        "outputId": "58b3dc7a-b59d-4917-9b46-3ef385db0791"
      },
      "source": [
        "df_tweet"
      ],
      "execution_count": null,
      "outputs": [
        {
          "output_type": "execute_result",
          "data": {
            "text/html": [
              "<div>\n",
              "<style scoped>\n",
              "    .dataframe tbody tr th:only-of-type {\n",
              "        vertical-align: middle;\n",
              "    }\n",
              "\n",
              "    .dataframe tbody tr th {\n",
              "        vertical-align: top;\n",
              "    }\n",
              "\n",
              "    .dataframe thead th {\n",
              "        text-align: right;\n",
              "    }\n",
              "</style>\n",
              "<table border=\"1\" class=\"dataframe\">\n",
              "  <thead>\n",
              "    <tr style=\"text-align: right;\">\n",
              "      <th></th>\n",
              "      <th>id</th>\n",
              "      <th>created_at</th>\n",
              "      <th>full_text</th>\n",
              "    </tr>\n",
              "  </thead>\n",
              "  <tbody>\n",
              "    <tr>\n",
              "      <th>0</th>\n",
              "      <td>1357479018472239104</td>\n",
              "      <td>Thu Feb 04 23:59:53 +0000 2021</td>\n",
              "      <td>RT @mhmdadipati: @farisandani Dari orang\" yang...</td>\n",
              "    </tr>\n",
              "    <tr>\n",
              "      <th>1</th>\n",
              "      <td>1357478833725845507</td>\n",
              "      <td>Thu Feb 04 23:59:09 +0000 2021</td>\n",
              "      <td>RT @iirman_: Dari Rachel Vennya jd inget kata ...</td>\n",
              "    </tr>\n",
              "    <tr>\n",
              "      <th>2</th>\n",
              "      <td>1357478819456720896</td>\n",
              "      <td>Thu Feb 04 23:59:05 +0000 2021</td>\n",
              "      <td>RT @handokotjung: Berhasil membuat banyak neti...</td>\n",
              "    </tr>\n",
              "    <tr>\n",
              "      <th>3</th>\n",
              "      <td>1357478818701733888</td>\n",
              "      <td>Thu Feb 04 23:59:05 +0000 2021</td>\n",
              "      <td>RT @yeontinnie: dari rachel vennya kita belaja...</td>\n",
              "    </tr>\n",
              "    <tr>\n",
              "      <th>4</th>\n",
              "      <td>1357478707884032001</td>\n",
              "      <td>Thu Feb 04 23:58:39 +0000 2021</td>\n",
              "      <td>RT @mncveronica: Cerita Rachel Vennya dan Okin...</td>\n",
              "    </tr>\n",
              "    <tr>\n",
              "      <th>...</th>\n",
              "      <td>...</td>\n",
              "      <td>...</td>\n",
              "      <td>...</td>\n",
              "    </tr>\n",
              "    <tr>\n",
              "      <th>1995</th>\n",
              "      <td>1357367016533880832</td>\n",
              "      <td>Thu Feb 04 16:34:50 +0000 2021</td>\n",
              "      <td>VCS brbayar😘\\nNew akun 💦\\nWa:083191018873 \\n#v...</td>\n",
              "    </tr>\n",
              "    <tr>\n",
              "      <th>1996</th>\n",
              "      <td>1357366907872047104</td>\n",
              "      <td>Thu Feb 04 16:34:24 +0000 2021</td>\n",
              "      <td>gapapa wajar lagi musim, apalagi musim ujan gi...</td>\n",
              "    </tr>\n",
              "    <tr>\n",
              "      <th>1997</th>\n",
              "      <td>1357366617651306496</td>\n",
              "      <td>Thu Feb 04 16:33:14 +0000 2021</td>\n",
              "      <td>Selingkuh memang salah sih, tapi mungkin itu b...</td>\n",
              "    </tr>\n",
              "    <tr>\n",
              "      <th>1998</th>\n",
              "      <td>1357366613327052800</td>\n",
              "      <td>Thu Feb 04 16:33:13 +0000 2021</td>\n",
              "      <td>RT @SpaPanggilan: #Selingkuh #sange cek video ...</td>\n",
              "    </tr>\n",
              "    <tr>\n",
              "      <th>1999</th>\n",
              "      <td>1357366592762380289</td>\n",
              "      <td>Thu Feb 04 16:33:09 +0000 2021</td>\n",
              "      <td>#Selingkuh #sange cek video 👉 https://t.co/ELo...</td>\n",
              "    </tr>\n",
              "  </tbody>\n",
              "</table>\n",
              "<p>2000 rows × 3 columns</p>\n",
              "</div>"
            ],
            "text/plain": [
              "                       id  ...                                          full_text\n",
              "0     1357479018472239104  ...  RT @mhmdadipati: @farisandani Dari orang\" yang...\n",
              "1     1357478833725845507  ...  RT @iirman_: Dari Rachel Vennya jd inget kata ...\n",
              "2     1357478819456720896  ...  RT @handokotjung: Berhasil membuat banyak neti...\n",
              "3     1357478818701733888  ...  RT @yeontinnie: dari rachel vennya kita belaja...\n",
              "4     1357478707884032001  ...  RT @mncveronica: Cerita Rachel Vennya dan Okin...\n",
              "...                   ...  ...                                                ...\n",
              "1995  1357367016533880832  ...  VCS brbayar😘\\nNew akun 💦\\nWa:083191018873 \\n#v...\n",
              "1996  1357366907872047104  ...  gapapa wajar lagi musim, apalagi musim ujan gi...\n",
              "1997  1357366617651306496  ...  Selingkuh memang salah sih, tapi mungkin itu b...\n",
              "1998  1357366613327052800  ...  RT @SpaPanggilan: #Selingkuh #sange cek video ...\n",
              "1999  1357366592762380289  ...  #Selingkuh #sange cek video 👉 https://t.co/ELo...\n",
              "\n",
              "[2000 rows x 3 columns]"
            ]
          },
          "metadata": {
            "tags": []
          },
          "execution_count": 45
        }
      ]
    },
    {
      "cell_type": "code",
      "metadata": {
        "id": "bUwhvJECTtko"
      },
      "source": [
        "df_tweet.to_sql('tweeet', con('/content/Basisdata(raw).db'))"
      ],
      "execution_count": null,
      "outputs": []
    }
  ]
}