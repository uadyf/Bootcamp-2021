{
  "nbformat": 4,
  "nbformat_minor": 0,
  "metadata": {
    "colab": {
      "name": "preprocessing.ipynb",
      "provenance": [],
      "collapsed_sections": [
        "1UnNq9nzj5Hf",
        "xFqttkqGkHqK",
        "7GT8Q-uJyvrG"
      ],
      "authorship_tag": "ABX9TyN14eCCXjUU3WBIOv05REg6",
      "include_colab_link": true
    },
    "kernelspec": {
      "name": "python3",
      "display_name": "Python 3"
    }
  },
  "cells": [
    {
      "cell_type": "markdown",
      "metadata": {
        "id": "view-in-github",
        "colab_type": "text"
      },
      "source": [
        "<a href=\"https://colab.research.google.com/github/uadyf/Bootcamp-2021/blob/main/tugas_akhir/preprocessing.ipynb\" target=\"_parent\"><img src=\"https://colab.research.google.com/assets/colab-badge.svg\" alt=\"Open In Colab\"/></a>"
      ]
    },
    {
      "cell_type": "markdown",
      "metadata": {
        "id": "1UnNq9nzj5Hf"
      },
      "source": [
        "## Get File\r\n",
        "(upload to google colab)"
      ]
    },
    {
      "cell_type": "code",
      "metadata": {
        "id": "8RBOkRERftwL"
      },
      "source": [
        "import sqlite3\r\n",
        "import pandas as pd\r\n",
        "import numpy as np"
      ],
      "execution_count": 1,
      "outputs": []
    },
    {
      "cell_type": "code",
      "metadata": {
        "id": "3PpBlxFggAf9"
      },
      "source": [
        "def con(path):\r\n",
        "  conn = sqlite3.connect(str(path))\r\n",
        "  return conn\r\n",
        "\r\n",
        "def replaceNone(list_):\r\n",
        "  replaced = []\r\n",
        "  for i in range(len(list_)):\r\n",
        "    new = [np.nan if val==None else val for val in list_[i]]\r\n",
        "    replaced.append(new)\r\n",
        "  return replaced\r\n",
        "\r\n",
        "def query(q, path):\r\n",
        "  df = pd.read_sql_query(str(q), con(str(path)))\r\n",
        "  col = df.columns\r\n",
        "\r\n",
        "  replace_nan = replaceNone(df.values)\r\n",
        "  df_new = pd.DataFrame(replace_nan, columns=col)\r\n",
        "  return df_new\r\n"
      ],
      "execution_count": null,
      "outputs": []
    },
    {
      "cell_type": "code",
      "metadata": {
        "id": "keoofufsg19c"
      },
      "source": [
        "q_user = '''\r\n",
        "        SELECT * FROM user\r\n",
        "        '''\r\n",
        "q_tweet = '''\r\n",
        "          SELECT * FROM tweet\r\n",
        "          '''\r\n",
        "file_ = '/content/Basisdata(raw).db'\r\n",
        "\r\n",
        "df_user = query(q_user, file_)\r\n",
        "df_tweet = query(q_tweet, file_)"
      ],
      "execution_count": null,
      "outputs": []
    },
    {
      "cell_type": "markdown",
      "metadata": {
        "id": "xFqttkqGkHqK"
      },
      "source": [
        "## preprocess tweet"
      ]
    },
    {
      "cell_type": "code",
      "metadata": {
        "id": "_82-4GqVmRFf"
      },
      "source": [
        "import re\r\n",
        "import string"
      ],
      "execution_count": 2,
      "outputs": []
    },
    {
      "cell_type": "code",
      "metadata": {
        "colab": {
          "base_uri": "https://localhost:8080/",
          "height": 406
        },
        "id": "ZGz_vGrJkMcJ",
        "outputId": "42f7a3c9-a50e-48d1-e94d-232332208926"
      },
      "source": [
        "dT = df_tweet\r\n",
        "dT"
      ],
      "execution_count": null,
      "outputs": [
        {
          "output_type": "execute_result",
          "data": {
            "text/html": [
              "<div>\n",
              "<style scoped>\n",
              "    .dataframe tbody tr th:only-of-type {\n",
              "        vertical-align: middle;\n",
              "    }\n",
              "\n",
              "    .dataframe tbody tr th {\n",
              "        vertical-align: top;\n",
              "    }\n",
              "\n",
              "    .dataframe thead th {\n",
              "        text-align: right;\n",
              "    }\n",
              "</style>\n",
              "<table border=\"1\" class=\"dataframe\">\n",
              "  <thead>\n",
              "    <tr style=\"text-align: right;\">\n",
              "      <th></th>\n",
              "      <th>tweetid</th>\n",
              "      <th>createddate</th>\n",
              "      <th>tweet</th>\n",
              "    </tr>\n",
              "  </thead>\n",
              "  <tbody>\n",
              "    <tr>\n",
              "      <th>0</th>\n",
              "      <td>1357479018472239104</td>\n",
              "      <td>Thu Feb 04 23:59:53 +0000 2021</td>\n",
              "      <td>RT @mhmdadipati: @farisandani Dari orang\" yang...</td>\n",
              "    </tr>\n",
              "    <tr>\n",
              "      <th>1</th>\n",
              "      <td>1357478833725845507</td>\n",
              "      <td>Thu Feb 04 23:59:09 +0000 2021</td>\n",
              "      <td>RT @iirman_: Dari Rachel Vennya jd inget kata ...</td>\n",
              "    </tr>\n",
              "    <tr>\n",
              "      <th>2</th>\n",
              "      <td>1357478819456720896</td>\n",
              "      <td>Thu Feb 04 23:59:05 +0000 2021</td>\n",
              "      <td>RT @handokotjung: Berhasil membuat banyak neti...</td>\n",
              "    </tr>\n",
              "    <tr>\n",
              "      <th>3</th>\n",
              "      <td>1357478818701733888</td>\n",
              "      <td>Thu Feb 04 23:59:05 +0000 2021</td>\n",
              "      <td>RT @yeontinnie: dari rachel vennya kita belaja...</td>\n",
              "    </tr>\n",
              "    <tr>\n",
              "      <th>4</th>\n",
              "      <td>1357478707884032001</td>\n",
              "      <td>Thu Feb 04 23:58:39 +0000 2021</td>\n",
              "      <td>RT @mncveronica: Cerita Rachel Vennya dan Okin...</td>\n",
              "    </tr>\n",
              "    <tr>\n",
              "      <th>...</th>\n",
              "      <td>...</td>\n",
              "      <td>...</td>\n",
              "      <td>...</td>\n",
              "    </tr>\n",
              "    <tr>\n",
              "      <th>1995</th>\n",
              "      <td>1357367016533880832</td>\n",
              "      <td>Thu Feb 04 16:34:50 +0000 2021</td>\n",
              "      <td>VCS brbayar😘\\nNew akun 💦\\nWa:083191018873 \\n#v...</td>\n",
              "    </tr>\n",
              "    <tr>\n",
              "      <th>1996</th>\n",
              "      <td>1357366907872047104</td>\n",
              "      <td>Thu Feb 04 16:34:24 +0000 2021</td>\n",
              "      <td>gapapa wajar lagi musim, apalagi musim ujan gi...</td>\n",
              "    </tr>\n",
              "    <tr>\n",
              "      <th>1997</th>\n",
              "      <td>1357366617651306496</td>\n",
              "      <td>Thu Feb 04 16:33:14 +0000 2021</td>\n",
              "      <td>Selingkuh memang salah sih, tapi mungkin itu b...</td>\n",
              "    </tr>\n",
              "    <tr>\n",
              "      <th>1998</th>\n",
              "      <td>1357366613327052800</td>\n",
              "      <td>Thu Feb 04 16:33:13 +0000 2021</td>\n",
              "      <td>RT @SpaPanggilan: #Selingkuh #sange cek video ...</td>\n",
              "    </tr>\n",
              "    <tr>\n",
              "      <th>1999</th>\n",
              "      <td>1357366592762380289</td>\n",
              "      <td>Thu Feb 04 16:33:09 +0000 2021</td>\n",
              "      <td>#Selingkuh #sange cek video 👉 https://t.co/ELo...</td>\n",
              "    </tr>\n",
              "  </tbody>\n",
              "</table>\n",
              "<p>2000 rows × 3 columns</p>\n",
              "</div>"
            ],
            "text/plain": [
              "                  tweetid  ...                                              tweet\n",
              "0     1357479018472239104  ...  RT @mhmdadipati: @farisandani Dari orang\" yang...\n",
              "1     1357478833725845507  ...  RT @iirman_: Dari Rachel Vennya jd inget kata ...\n",
              "2     1357478819456720896  ...  RT @handokotjung: Berhasil membuat banyak neti...\n",
              "3     1357478818701733888  ...  RT @yeontinnie: dari rachel vennya kita belaja...\n",
              "4     1357478707884032001  ...  RT @mncveronica: Cerita Rachel Vennya dan Okin...\n",
              "...                   ...  ...                                                ...\n",
              "1995  1357367016533880832  ...  VCS brbayar😘\\nNew akun 💦\\nWa:083191018873 \\n#v...\n",
              "1996  1357366907872047104  ...  gapapa wajar lagi musim, apalagi musim ujan gi...\n",
              "1997  1357366617651306496  ...  Selingkuh memang salah sih, tapi mungkin itu b...\n",
              "1998  1357366613327052800  ...  RT @SpaPanggilan: #Selingkuh #sange cek video ...\n",
              "1999  1357366592762380289  ...  #Selingkuh #sange cek video 👉 https://t.co/ELo...\n",
              "\n",
              "[2000 rows x 3 columns]"
            ]
          },
          "metadata": {
            "tags": []
          },
          "execution_count": 5
        }
      ]
    },
    {
      "cell_type": "code",
      "metadata": {
        "colab": {
          "base_uri": "https://localhost:8080/"
        },
        "id": "kHrjf8oekOVJ",
        "outputId": "1ad8d795-a17e-4fe6-e62c-c4878c8d6573"
      },
      "source": [
        "df_tweet.info()"
      ],
      "execution_count": null,
      "outputs": [
        {
          "output_type": "stream",
          "text": [
            "<class 'pandas.core.frame.DataFrame'>\n",
            "RangeIndex: 2000 entries, 0 to 1999\n",
            "Data columns (total 3 columns):\n",
            " #   Column       Non-Null Count  Dtype \n",
            "---  ------       --------------  ----- \n",
            " 0   tweetid      2000 non-null   int64 \n",
            " 1   createddate  2000 non-null   object\n",
            " 2   tweet        2000 non-null   object\n",
            "dtypes: int64(1), object(2)\n",
            "memory usage: 47.0+ KB\n"
          ],
          "name": "stdout"
        }
      ]
    },
    {
      "cell_type": "code",
      "metadata": {
        "id": "BXf8YFapkYGt"
      },
      "source": [
        "dT['createddate'] = pd.to_datetime(dT['createddate'])\r\n",
        "dT['createddate'] = dT['createddate'].dt.strftime('%Y-%m-%d')\r\n",
        "dT['createddate'] = pd.to_datetime(dT['createddate'])"
      ],
      "execution_count": null,
      "outputs": []
    },
    {
      "cell_type": "code",
      "metadata": {
        "id": "C7_VJRUilSY3"
      },
      "source": [
        "def prepTweet(list_of_tweet):\r\n",
        "  # no stopword, will use stopword next step\r\n",
        "  clean = []\r\n",
        "  for t in list_of_tweet:\r\n",
        "    low = t.lower()\r\n",
        "    junk = re.sub(\"(@[A-Za-z0-9]+)|([^0-9A-Za-z \\t])|(\\w+:\\/\\/\\S+)\", \"\", low)\r\n",
        "    junk_num = re.sub(r'^\\d+\\s|\\d+$|\\d+\\s|\\s\\d+', '', junk)\r\n",
        "    make = str.maketrans('','',string.punctuation)\r\n",
        "    punct = junk_num.translate(make).strip()\r\n",
        "    remove_rt = re.sub(r'\\Art\\s', '', punct)\r\n",
        "    clean.append(remove_rt)\r\n",
        "  return clean\r\n",
        "\r\n",
        "# because vcs is usually stand for Video Call Sex which is not related\r\n",
        "def removeWord(data, word):\r\n",
        "  df_filtered = data[~data['tweet'].str.contains(str(word))]\r\n",
        "  return df_filtered"
      ],
      "execution_count": 2,
      "outputs": []
    },
    {
      "cell_type": "code",
      "metadata": {
        "id": "RtCRVWxHp357"
      },
      "source": [
        "dT['tweet'] = prepTweet(dT['tweet'].values)"
      ],
      "execution_count": null,
      "outputs": []
    },
    {
      "cell_type": "code",
      "metadata": {
        "id": "EOcw0zOGoSDD"
      },
      "source": [
        "dT = removeWord(dT, 'vcs')\r\n",
        "dT = removeWord(dT, 'meatlovers')"
      ],
      "execution_count": null,
      "outputs": []
    },
    {
      "cell_type": "code",
      "metadata": {
        "colab": {
          "base_uri": "https://localhost:8080/",
          "height": 406
        },
        "id": "4d4eT6NH5kQ3",
        "outputId": "8dad580b-86b9-45c8-eb3c-4a42e1e8dad1"
      },
      "source": [
        "dT"
      ],
      "execution_count": null,
      "outputs": [
        {
          "output_type": "execute_result",
          "data": {
            "text/html": [
              "<div>\n",
              "<style scoped>\n",
              "    .dataframe tbody tr th:only-of-type {\n",
              "        vertical-align: middle;\n",
              "    }\n",
              "\n",
              "    .dataframe tbody tr th {\n",
              "        vertical-align: top;\n",
              "    }\n",
              "\n",
              "    .dataframe thead th {\n",
              "        text-align: right;\n",
              "    }\n",
              "</style>\n",
              "<table border=\"1\" class=\"dataframe\">\n",
              "  <thead>\n",
              "    <tr style=\"text-align: right;\">\n",
              "      <th></th>\n",
              "      <th>tweetid</th>\n",
              "      <th>createddate</th>\n",
              "      <th>tweet</th>\n",
              "    </tr>\n",
              "  </thead>\n",
              "  <tbody>\n",
              "    <tr>\n",
              "      <th>0</th>\n",
              "      <td>1357479018472239104</td>\n",
              "      <td>2021-02-04</td>\n",
              "      <td>dari orang yang belajar dari rachel vennya a...</td>\n",
              "    </tr>\n",
              "    <tr>\n",
              "      <th>1</th>\n",
              "      <td>1357478833725845507</td>\n",
              "      <td>2021-02-04</td>\n",
              "      <td>dari rachel vennya jd inget kata raditya dika...</td>\n",
              "    </tr>\n",
              "    <tr>\n",
              "      <th>2</th>\n",
              "      <td>1357478819456720896</td>\n",
              "      <td>2021-02-04</td>\n",
              "      <td>berhasil membuat banyak netizen belajar rache...</td>\n",
              "    </tr>\n",
              "    <tr>\n",
              "      <th>3</th>\n",
              "      <td>1357478818701733888</td>\n",
              "      <td>2021-02-04</td>\n",
              "      <td>dari rachel vennya kita belajar as long as ur...</td>\n",
              "    </tr>\n",
              "    <tr>\n",
              "      <th>4</th>\n",
              "      <td>1357478707884032001</td>\n",
              "      <td>2021-02-04</td>\n",
              "      <td>cerita rachel vennya dan okin membawaku untuk...</td>\n",
              "    </tr>\n",
              "    <tr>\n",
              "      <th>...</th>\n",
              "      <td>...</td>\n",
              "      <td>...</td>\n",
              "      <td>...</td>\n",
              "    </tr>\n",
              "    <tr>\n",
              "      <th>1994</th>\n",
              "      <td>1357367016961802240</td>\n",
              "      <td>2021-02-04</td>\n",
              "      <td>khaaa selingkuh gimana kan aku jomblo</td>\n",
              "    </tr>\n",
              "    <tr>\n",
              "      <th>1996</th>\n",
              "      <td>1357366907872047104</td>\n",
              "      <td>2021-02-04</td>\n",
              "      <td>gapapa wajar lagi musim apalagi musim ujan gin...</td>\n",
              "    </tr>\n",
              "    <tr>\n",
              "      <th>1997</th>\n",
              "      <td>1357366617651306496</td>\n",
              "      <td>2021-02-04</td>\n",
              "      <td>selingkuh memang salah sih tapi mungkin itu bi...</td>\n",
              "    </tr>\n",
              "    <tr>\n",
              "      <th>1998</th>\n",
              "      <td>1357366613327052800</td>\n",
              "      <td>2021-02-04</td>\n",
              "      <td>selingkuh sange cek video   surabaya medan ja...</td>\n",
              "    </tr>\n",
              "    <tr>\n",
              "      <th>1999</th>\n",
              "      <td>1357366592762380289</td>\n",
              "      <td>2021-02-04</td>\n",
              "      <td>selingkuh sange cek video   surabaya medan jak...</td>\n",
              "    </tr>\n",
              "  </tbody>\n",
              "</table>\n",
              "<p>1542 rows × 3 columns</p>\n",
              "</div>"
            ],
            "text/plain": [
              "                  tweetid  ...                                              tweet\n",
              "0     1357479018472239104  ...    dari orang yang belajar dari rachel vennya a...\n",
              "1     1357478833725845507  ...   dari rachel vennya jd inget kata raditya dika...\n",
              "2     1357478819456720896  ...   berhasil membuat banyak netizen belajar rache...\n",
              "3     1357478818701733888  ...   dari rachel vennya kita belajar as long as ur...\n",
              "4     1357478707884032001  ...   cerita rachel vennya dan okin membawaku untuk...\n",
              "...                   ...  ...                                                ...\n",
              "1994  1357367016961802240  ...              khaaa selingkuh gimana kan aku jomblo\n",
              "1996  1357366907872047104  ...  gapapa wajar lagi musim apalagi musim ujan gin...\n",
              "1997  1357366617651306496  ...  selingkuh memang salah sih tapi mungkin itu bi...\n",
              "1998  1357366613327052800  ...   selingkuh sange cek video   surabaya medan ja...\n",
              "1999  1357366592762380289  ...  selingkuh sange cek video   surabaya medan jak...\n",
              "\n",
              "[1542 rows x 3 columns]"
            ]
          },
          "metadata": {
            "tags": []
          },
          "execution_count": 64
        }
      ]
    },
    {
      "cell_type": "code",
      "metadata": {
        "id": "se1PjrcN9LFx"
      },
      "source": [
        "dT.to_csv('tweet.csv', index=False)"
      ],
      "execution_count": null,
      "outputs": []
    },
    {
      "cell_type": "markdown",
      "metadata": {
        "id": "GoEbSfg7F4w5"
      },
      "source": [
        "## preprocess tweet part 2"
      ]
    },
    {
      "cell_type": "code",
      "metadata": {
        "colab": {
          "base_uri": "https://localhost:8080/"
        },
        "id": "KgOUY7dLJeMS",
        "outputId": "2e3cba45-25b1-417a-9e8c-4ab4eb783f51"
      },
      "source": [
        "!pip install PySastrawi"
      ],
      "execution_count": 5,
      "outputs": [
        {
          "output_type": "stream",
          "text": [
            "Collecting PySastrawi\n",
            "\u001b[?25l  Downloading https://files.pythonhosted.org/packages/61/84/b0a5454a040f81e81e6a95a5d5635f20ad43cc0c288f8b4966b339084962/PySastrawi-1.2.0-py2.py3-none-any.whl (210kB)\n",
            "\r\u001b[K     |█▋                              | 10kB 13.4MB/s eta 0:00:01\r\u001b[K     |███▏                            | 20kB 12.5MB/s eta 0:00:01\r\u001b[K     |████▊                           | 30kB 7.4MB/s eta 0:00:01\r\u001b[K     |██████▎                         | 40kB 6.3MB/s eta 0:00:01\r\u001b[K     |███████▉                        | 51kB 4.2MB/s eta 0:00:01\r\u001b[K     |█████████▍                      | 61kB 4.6MB/s eta 0:00:01\r\u001b[K     |███████████                     | 71kB 5.1MB/s eta 0:00:01\r\u001b[K     |████████████▌                   | 81kB 5.3MB/s eta 0:00:01\r\u001b[K     |██████████████                  | 92kB 4.9MB/s eta 0:00:01\r\u001b[K     |███████████████▋                | 102kB 5.1MB/s eta 0:00:01\r\u001b[K     |█████████████████▏              | 112kB 5.1MB/s eta 0:00:01\r\u001b[K     |██████████████████▊             | 122kB 5.1MB/s eta 0:00:01\r\u001b[K     |████████████████████▎           | 133kB 5.1MB/s eta 0:00:01\r\u001b[K     |█████████████████████▉          | 143kB 5.1MB/s eta 0:00:01\r\u001b[K     |███████████████████████▍        | 153kB 5.1MB/s eta 0:00:01\r\u001b[K     |█████████████████████████       | 163kB 5.1MB/s eta 0:00:01\r\u001b[K     |██████████████████████████▌     | 174kB 5.1MB/s eta 0:00:01\r\u001b[K     |████████████████████████████    | 184kB 5.1MB/s eta 0:00:01\r\u001b[K     |█████████████████████████████▋  | 194kB 5.1MB/s eta 0:00:01\r\u001b[K     |███████████████████████████████▏| 204kB 5.1MB/s eta 0:00:01\r\u001b[K     |████████████████████████████████| 215kB 5.1MB/s \n",
            "\u001b[?25hInstalling collected packages: PySastrawi\n",
            "Successfully installed PySastrawi-1.2.0\n"
          ],
          "name": "stdout"
        }
      ]
    },
    {
      "cell_type": "code",
      "metadata": {
        "colab": {
          "base_uri": "https://localhost:8080/"
        },
        "id": "92ESlouhJWea",
        "outputId": "c77ec6b0-441c-49c9-98f8-5f90d50eee7d"
      },
      "source": [
        "import nltk\r\n",
        "from nltk.corpus import stopwords\r\n",
        "from nltk.tokenize import word_tokenize\r\n",
        "from Sastrawi.Stemmer.StemmerFactory import StemmerFactory\r\n",
        "nltk.download('stopwords')\r\n",
        "nltk.download('punkt')\r\n",
        "stop_words = set(stopwords.words('indonesian'))"
      ],
      "execution_count": 6,
      "outputs": [
        {
          "output_type": "stream",
          "text": [
            "[nltk_data] Downloading package stopwords to /root/nltk_data...\n",
            "[nltk_data]   Unzipping corpora/stopwords.zip.\n",
            "[nltk_data] Downloading package punkt to /root/nltk_data...\n",
            "[nltk_data]   Unzipping tokenizers/punkt.zip.\n"
          ],
          "name": "stdout"
        }
      ]
    },
    {
      "cell_type": "code",
      "metadata": {
        "id": "942dQ6jVGBcT"
      },
      "source": [
        "tweet = pd.read_csv('tweet.csv')"
      ],
      "execution_count": 7,
      "outputs": []
    },
    {
      "cell_type": "code",
      "metadata": {
        "colab": {
          "base_uri": "https://localhost:8080/",
          "height": 406
        },
        "id": "doFxg9pNGy4a",
        "outputId": "7fe537cb-7633-42ec-eff1-4b024447eb23"
      },
      "source": [
        "tweet"
      ],
      "execution_count": 8,
      "outputs": [
        {
          "output_type": "execute_result",
          "data": {
            "text/html": [
              "<div>\n",
              "<style scoped>\n",
              "    .dataframe tbody tr th:only-of-type {\n",
              "        vertical-align: middle;\n",
              "    }\n",
              "\n",
              "    .dataframe tbody tr th {\n",
              "        vertical-align: top;\n",
              "    }\n",
              "\n",
              "    .dataframe thead th {\n",
              "        text-align: right;\n",
              "    }\n",
              "</style>\n",
              "<table border=\"1\" class=\"dataframe\">\n",
              "  <thead>\n",
              "    <tr style=\"text-align: right;\">\n",
              "      <th></th>\n",
              "      <th>tweetid</th>\n",
              "      <th>createddate</th>\n",
              "      <th>tweet</th>\n",
              "    </tr>\n",
              "  </thead>\n",
              "  <tbody>\n",
              "    <tr>\n",
              "      <th>0</th>\n",
              "      <td>1357479018472239104</td>\n",
              "      <td>2021-02-04</td>\n",
              "      <td>dari orang yang belajar dari rachel vennya a...</td>\n",
              "    </tr>\n",
              "    <tr>\n",
              "      <th>1</th>\n",
              "      <td>1357478833725845507</td>\n",
              "      <td>2021-02-04</td>\n",
              "      <td>dari rachel vennya jd inget kata raditya dika...</td>\n",
              "    </tr>\n",
              "    <tr>\n",
              "      <th>2</th>\n",
              "      <td>1357478819456720896</td>\n",
              "      <td>2021-02-04</td>\n",
              "      <td>berhasil membuat banyak netizen belajar rache...</td>\n",
              "    </tr>\n",
              "    <tr>\n",
              "      <th>3</th>\n",
              "      <td>1357478818701733888</td>\n",
              "      <td>2021-02-04</td>\n",
              "      <td>dari rachel vennya kita belajar as long as ur...</td>\n",
              "    </tr>\n",
              "    <tr>\n",
              "      <th>4</th>\n",
              "      <td>1357478707884032001</td>\n",
              "      <td>2021-02-04</td>\n",
              "      <td>cerita rachel vennya dan okin membawaku untuk...</td>\n",
              "    </tr>\n",
              "    <tr>\n",
              "      <th>...</th>\n",
              "      <td>...</td>\n",
              "      <td>...</td>\n",
              "      <td>...</td>\n",
              "    </tr>\n",
              "    <tr>\n",
              "      <th>1537</th>\n",
              "      <td>1357367016961802240</td>\n",
              "      <td>2021-02-04</td>\n",
              "      <td>khaaa selingkuh gimana kan aku jomblo</td>\n",
              "    </tr>\n",
              "    <tr>\n",
              "      <th>1538</th>\n",
              "      <td>1357366907872047104</td>\n",
              "      <td>2021-02-04</td>\n",
              "      <td>gapapa wajar lagi musim apalagi musim ujan gin...</td>\n",
              "    </tr>\n",
              "    <tr>\n",
              "      <th>1539</th>\n",
              "      <td>1357366617651306496</td>\n",
              "      <td>2021-02-04</td>\n",
              "      <td>selingkuh memang salah sih tapi mungkin itu bi...</td>\n",
              "    </tr>\n",
              "    <tr>\n",
              "      <th>1540</th>\n",
              "      <td>1357366613327052800</td>\n",
              "      <td>2021-02-04</td>\n",
              "      <td>selingkuh sange cek video   surabaya medan ja...</td>\n",
              "    </tr>\n",
              "    <tr>\n",
              "      <th>1541</th>\n",
              "      <td>1357366592762380289</td>\n",
              "      <td>2021-02-04</td>\n",
              "      <td>selingkuh sange cek video   surabaya medan jak...</td>\n",
              "    </tr>\n",
              "  </tbody>\n",
              "</table>\n",
              "<p>1542 rows × 3 columns</p>\n",
              "</div>"
            ],
            "text/plain": [
              "                  tweetid  ...                                              tweet\n",
              "0     1357479018472239104  ...    dari orang yang belajar dari rachel vennya a...\n",
              "1     1357478833725845507  ...   dari rachel vennya jd inget kata raditya dika...\n",
              "2     1357478819456720896  ...   berhasil membuat banyak netizen belajar rache...\n",
              "3     1357478818701733888  ...   dari rachel vennya kita belajar as long as ur...\n",
              "4     1357478707884032001  ...   cerita rachel vennya dan okin membawaku untuk...\n",
              "...                   ...  ...                                                ...\n",
              "1537  1357367016961802240  ...              khaaa selingkuh gimana kan aku jomblo\n",
              "1538  1357366907872047104  ...  gapapa wajar lagi musim apalagi musim ujan gin...\n",
              "1539  1357366617651306496  ...  selingkuh memang salah sih tapi mungkin itu bi...\n",
              "1540  1357366613327052800  ...   selingkuh sange cek video   surabaya medan ja...\n",
              "1541  1357366592762380289  ...  selingkuh sange cek video   surabaya medan jak...\n",
              "\n",
              "[1542 rows x 3 columns]"
            ]
          },
          "metadata": {
            "tags": []
          },
          "execution_count": 8
        }
      ]
    },
    {
      "cell_type": "code",
      "metadata": {
        "id": "-q2Bw0QwG9uX"
      },
      "source": [
        "def removeDup(data, column):\r\n",
        "  df = data.drop_duplicates(subset=[str(column)])\r\n",
        "  return df\r\n",
        "\r\n",
        "def prepTweet2(data, column_to_prep, words_removal):\r\n",
        "  df = data\r\n",
        "  for word in words_removal:\r\n",
        "    df = removeWord(data, word)\r\n",
        "  df = removeDup(df, column_to_prep)\r\n",
        "  list_of_tweet = df[str(column_to_prep)]\r\n",
        "  clean = []\r\n",
        "  for val in list_of_tweet:\r\n",
        "    token = word_tokenize(val)\r\n",
        "    not_stopword = [word for word in token if word not in stop_words]\r\n",
        "    clean.append(' '.join(not_stopword))\r\n",
        "  df['clean'] = clean\r\n",
        "  return df"
      ],
      "execution_count": 3,
      "outputs": []
    },
    {
      "cell_type": "code",
      "metadata": {
        "id": "EgXgt1zvLmxf"
      },
      "source": [
        "tweet = prepTweet2(tweet, 'tweet', ['sange'])"
      ],
      "execution_count": 9,
      "outputs": []
    },
    {
      "cell_type": "code",
      "metadata": {
        "id": "wm-ljHzSMMGm"
      },
      "source": [
        "tweet.drop('tweet', axis=1, inplace=True)"
      ],
      "execution_count": 13,
      "outputs": []
    },
    {
      "cell_type": "code",
      "metadata": {
        "id": "DeRun5odNZob"
      },
      "source": [
        "tweet.rename({'clean':'tweet'}, axis=1, inplace=True)"
      ],
      "execution_count": 17,
      "outputs": []
    },
    {
      "cell_type": "code",
      "metadata": {
        "colab": {
          "base_uri": "https://localhost:8080/",
          "height": 406
        },
        "id": "FDJvooPbO7a5",
        "outputId": "2bfd52aa-2ff9-4f18-e4e6-c754208b140e"
      },
      "source": [
        "tweet"
      ],
      "execution_count": 18,
      "outputs": [
        {
          "output_type": "execute_result",
          "data": {
            "text/html": [
              "<div>\n",
              "<style scoped>\n",
              "    .dataframe tbody tr th:only-of-type {\n",
              "        vertical-align: middle;\n",
              "    }\n",
              "\n",
              "    .dataframe tbody tr th {\n",
              "        vertical-align: top;\n",
              "    }\n",
              "\n",
              "    .dataframe thead th {\n",
              "        text-align: right;\n",
              "    }\n",
              "</style>\n",
              "<table border=\"1\" class=\"dataframe\">\n",
              "  <thead>\n",
              "    <tr style=\"text-align: right;\">\n",
              "      <th></th>\n",
              "      <th>tweetid</th>\n",
              "      <th>createddate</th>\n",
              "      <th>tweet</th>\n",
              "    </tr>\n",
              "  </thead>\n",
              "  <tbody>\n",
              "    <tr>\n",
              "      <th>0</th>\n",
              "      <td>1357479018472239104</td>\n",
              "      <td>2021-02-04</td>\n",
              "      <td>orang belajar rachel vennya belajar orang bela...</td>\n",
              "    </tr>\n",
              "    <tr>\n",
              "      <th>1</th>\n",
              "      <td>1357478833725845507</td>\n",
              "      <td>2021-02-04</td>\n",
              "      <td>rachel vennya jd inget raditya dikamenikahlah ...</td>\n",
              "    </tr>\n",
              "    <tr>\n",
              "      <th>2</th>\n",
              "      <td>1357478819456720896</td>\n",
              "      <td>2021-02-04</td>\n",
              "      <td>berhasil netizen belajar rachel vennya bikin les</td>\n",
              "    </tr>\n",
              "    <tr>\n",
              "      <th>3</th>\n",
              "      <td>1357478818701733888</td>\n",
              "      <td>2021-02-04</td>\n",
              "      <td>rachel vennya belajar as long as ure in relati...</td>\n",
              "    </tr>\n",
              "    <tr>\n",
              "      <th>4</th>\n",
              "      <td>1357478707884032001</td>\n",
              "      <td>2021-02-04</td>\n",
              "      <td>cerita rachel vennya okin membawaku mengeluark...</td>\n",
              "    </tr>\n",
              "    <tr>\n",
              "      <th>...</th>\n",
              "      <td>...</td>\n",
              "      <td>...</td>\n",
              "      <td>...</td>\n",
              "    </tr>\n",
              "    <tr>\n",
              "      <th>1535</th>\n",
              "      <td>1357367144271417346</td>\n",
              "      <td>2021-02-04</td>\n",
              "      <td>dituduh selingkuh malamjumat</td>\n",
              "    </tr>\n",
              "    <tr>\n",
              "      <th>1536</th>\n",
              "      <td>1357367049484263425</td>\n",
              "      <td>2021-02-04</td>\n",
              "      <td>selingkuh enak rt setuju</td>\n",
              "    </tr>\n",
              "    <tr>\n",
              "      <th>1537</th>\n",
              "      <td>1357367016961802240</td>\n",
              "      <td>2021-02-04</td>\n",
              "      <td>khaaa selingkuh gimana jomblo</td>\n",
              "    </tr>\n",
              "    <tr>\n",
              "      <th>1538</th>\n",
              "      <td>1357366907872047104</td>\n",
              "      <td>2021-02-04</td>\n",
              "      <td>gapapa wajar musim musim ujan gini selingkuh</td>\n",
              "    </tr>\n",
              "    <tr>\n",
              "      <th>1539</th>\n",
              "      <td>1357366617651306496</td>\n",
              "      <td>2021-02-04</td>\n",
              "      <td>selingkuh salah sih komunikasi pasanganmu lanc...</td>\n",
              "    </tr>\n",
              "  </tbody>\n",
              "</table>\n",
              "<p>513 rows × 3 columns</p>\n",
              "</div>"
            ],
            "text/plain": [
              "                  tweetid  ...                                              tweet\n",
              "0     1357479018472239104  ...  orang belajar rachel vennya belajar orang bela...\n",
              "1     1357478833725845507  ...  rachel vennya jd inget raditya dikamenikahlah ...\n",
              "2     1357478819456720896  ...   berhasil netizen belajar rachel vennya bikin les\n",
              "3     1357478818701733888  ...  rachel vennya belajar as long as ure in relati...\n",
              "4     1357478707884032001  ...  cerita rachel vennya okin membawaku mengeluark...\n",
              "...                   ...  ...                                                ...\n",
              "1535  1357367144271417346  ...                       dituduh selingkuh malamjumat\n",
              "1536  1357367049484263425  ...                           selingkuh enak rt setuju\n",
              "1537  1357367016961802240  ...                      khaaa selingkuh gimana jomblo\n",
              "1538  1357366907872047104  ...       gapapa wajar musim musim ujan gini selingkuh\n",
              "1539  1357366617651306496  ...  selingkuh salah sih komunikasi pasanganmu lanc...\n",
              "\n",
              "[513 rows x 3 columns]"
            ]
          },
          "metadata": {
            "tags": []
          },
          "execution_count": 18
        }
      ]
    },
    {
      "cell_type": "code",
      "metadata": {
        "id": "9SLD2XrdMSpJ"
      },
      "source": [
        "tweet.to_csv('tweet_clean.csv', index=False)"
      ],
      "execution_count": 19,
      "outputs": []
    },
    {
      "cell_type": "markdown",
      "metadata": {
        "id": "7GT8Q-uJyvrG"
      },
      "source": [
        "## preprocess user"
      ]
    },
    {
      "cell_type": "code",
      "metadata": {
        "colab": {
          "base_uri": "https://localhost:8080/",
          "height": 406
        },
        "id": "GCmbb55yysUP",
        "outputId": "1a0e39c4-1087-4494-9b72-58321d6f6c5d"
      },
      "source": [
        "dUs = df_user\r\n",
        "dUs"
      ],
      "execution_count": null,
      "outputs": [
        {
          "output_type": "execute_result",
          "data": {
            "text/html": [
              "<div>\n",
              "<style scoped>\n",
              "    .dataframe tbody tr th:only-of-type {\n",
              "        vertical-align: middle;\n",
              "    }\n",
              "\n",
              "    .dataframe tbody tr th {\n",
              "        vertical-align: top;\n",
              "    }\n",
              "\n",
              "    .dataframe thead th {\n",
              "        text-align: right;\n",
              "    }\n",
              "</style>\n",
              "<table border=\"1\" class=\"dataframe\">\n",
              "  <thead>\n",
              "    <tr style=\"text-align: right;\">\n",
              "      <th></th>\n",
              "      <th>userid</th>\n",
              "      <th>name</th>\n",
              "      <th>screenname</th>\n",
              "      <th>location</th>\n",
              "      <th>accountcreated</th>\n",
              "      <th>follower</th>\n",
              "      <th>friend</th>\n",
              "      <th>verified</th>\n",
              "    </tr>\n",
              "  </thead>\n",
              "  <tbody>\n",
              "    <tr>\n",
              "      <th>0</th>\n",
              "      <td>892670807121330177</td>\n",
              "      <td>Ferdy Agusman</td>\n",
              "      <td>gusmanerdy</td>\n",
              "      <td>Medan</td>\n",
              "      <td>Wed Aug 02 08:58:00 +0000 2017</td>\n",
              "      <td>6</td>\n",
              "      <td>14</td>\n",
              "      <td>0</td>\n",
              "    </tr>\n",
              "    <tr>\n",
              "      <th>1</th>\n",
              "      <td>277434635</td>\n",
              "      <td>Karina angelika</td>\n",
              "      <td>karigel13</td>\n",
              "      <td>between his lungs</td>\n",
              "      <td>Tue Apr 05 11:03:15 +0000 2011</td>\n",
              "      <td>417</td>\n",
              "      <td>378</td>\n",
              "      <td>0</td>\n",
              "    </tr>\n",
              "    <tr>\n",
              "      <th>2</th>\n",
              "      <td>544170238</td>\n",
              "      <td>Kanjeng Sultan</td>\n",
              "      <td>ayiekkresna</td>\n",
              "      <td>Kota Surabaya, Jawa Timur</td>\n",
              "      <td>Tue Apr 03 10:42:42 +0000 2012</td>\n",
              "      <td>590</td>\n",
              "      <td>333</td>\n",
              "      <td>0</td>\n",
              "    </tr>\n",
              "    <tr>\n",
              "      <th>3</th>\n",
              "      <td>1356180001888976899</td>\n",
              "      <td>UrExtacy</td>\n",
              "      <td>6hndrd6ty6</td>\n",
              "      <td>Bikini Bottom</td>\n",
              "      <td>Mon Feb 01 09:58:22 +0000 2021</td>\n",
              "      <td>2</td>\n",
              "      <td>114</td>\n",
              "      <td>0</td>\n",
              "    </tr>\n",
              "    <tr>\n",
              "      <th>4</th>\n",
              "      <td>1168873359741874176</td>\n",
              "      <td>bela</td>\n",
              "      <td>twingkerbelll</td>\n",
              "      <td>NaN</td>\n",
              "      <td>Tue Sep 03 13:08:38 +0000 2019</td>\n",
              "      <td>42</td>\n",
              "      <td>48</td>\n",
              "      <td>0</td>\n",
              "    </tr>\n",
              "    <tr>\n",
              "      <th>...</th>\n",
              "      <td>...</td>\n",
              "      <td>...</td>\n",
              "      <td>...</td>\n",
              "      <td>...</td>\n",
              "      <td>...</td>\n",
              "      <td>...</td>\n",
              "      <td>...</td>\n",
              "      <td>...</td>\n",
              "    </tr>\n",
              "    <tr>\n",
              "      <th>1995</th>\n",
              "      <td>1356663513024880641</td>\n",
              "      <td>Dania Putri</td>\n",
              "      <td>DaniaPu19568142</td>\n",
              "      <td>NaN</td>\n",
              "      <td>Tue Feb 02 17:59:41 +0000 2021</td>\n",
              "      <td>5</td>\n",
              "      <td>0</td>\n",
              "      <td>0</td>\n",
              "    </tr>\n",
              "    <tr>\n",
              "      <th>1996</th>\n",
              "      <td>1270945722259529728</td>\n",
              "      <td>AL</td>\n",
              "      <td>rohfakboi</td>\n",
              "      <td>NaN</td>\n",
              "      <td>Thu Jun 11 05:07:38 +0000 2020</td>\n",
              "      <td>34</td>\n",
              "      <td>105</td>\n",
              "      <td>0</td>\n",
              "    </tr>\n",
              "    <tr>\n",
              "      <th>1997</th>\n",
              "      <td>1291683283516850178</td>\n",
              "      <td>Rexsy Aprino Sanggen</td>\n",
              "      <td>rexsy_aprino</td>\n",
              "      <td>Central Borneo, Indonesia</td>\n",
              "      <td>Fri Aug 07 10:31:18 +0000 2020</td>\n",
              "      <td>5</td>\n",
              "      <td>5</td>\n",
              "      <td>0</td>\n",
              "    </tr>\n",
              "    <tr>\n",
              "      <th>1998</th>\n",
              "      <td>1011527885876654080</td>\n",
              "      <td>pijat panggilan</td>\n",
              "      <td>SpaPanggilan</td>\n",
              "      <td>surabaya, malang, palembang,</td>\n",
              "      <td>Tue Jun 26 08:33:36 +0000 2018</td>\n",
              "      <td>2072</td>\n",
              "      <td>222</td>\n",
              "      <td>0</td>\n",
              "    </tr>\n",
              "    <tr>\n",
              "      <th>1999</th>\n",
              "      <td>1011527885876654080</td>\n",
              "      <td>pijat panggilan</td>\n",
              "      <td>SpaPanggilan</td>\n",
              "      <td>surabaya, malang, palembang,</td>\n",
              "      <td>Tue Jun 26 08:33:36 +0000 2018</td>\n",
              "      <td>2072</td>\n",
              "      <td>222</td>\n",
              "      <td>0</td>\n",
              "    </tr>\n",
              "  </tbody>\n",
              "</table>\n",
              "<p>2000 rows × 8 columns</p>\n",
              "</div>"
            ],
            "text/plain": [
              "                   userid                  name  ... friend verified\n",
              "0      892670807121330177         Ferdy Agusman  ...     14        0\n",
              "1               277434635       Karina angelika  ...    378        0\n",
              "2               544170238        Kanjeng Sultan  ...    333        0\n",
              "3     1356180001888976899              UrExtacy  ...    114        0\n",
              "4     1168873359741874176                  bela  ...     48        0\n",
              "...                   ...                   ...  ...    ...      ...\n",
              "1995  1356663513024880641           Dania Putri  ...      0        0\n",
              "1996  1270945722259529728                    AL  ...    105        0\n",
              "1997  1291683283516850178  Rexsy Aprino Sanggen  ...      5        0\n",
              "1998  1011527885876654080       pijat panggilan  ...    222        0\n",
              "1999  1011527885876654080       pijat panggilan  ...    222        0\n",
              "\n",
              "[2000 rows x 8 columns]"
            ]
          },
          "metadata": {
            "tags": []
          },
          "execution_count": 43
        }
      ]
    },
    {
      "cell_type": "code",
      "metadata": {
        "colab": {
          "base_uri": "https://localhost:8080/"
        },
        "id": "rrq5CanUy5gE",
        "outputId": "f4765bf4-247b-43be-d54f-13ad116fc1cb"
      },
      "source": [
        "dUs.info()"
      ],
      "execution_count": null,
      "outputs": [
        {
          "output_type": "stream",
          "text": [
            "<class 'pandas.core.frame.DataFrame'>\n",
            "RangeIndex: 2000 entries, 0 to 1999\n",
            "Data columns (total 8 columns):\n",
            " #   Column          Non-Null Count  Dtype         \n",
            "---  ------          --------------  -----         \n",
            " 0   userid          2000 non-null   int64         \n",
            " 1   name            2000 non-null   object        \n",
            " 2   screenname      2000 non-null   object        \n",
            " 3   location        2000 non-null   object        \n",
            " 4   accountcreated  2000 non-null   datetime64[ns]\n",
            " 5   follower        2000 non-null   int64         \n",
            " 6   friend          2000 non-null   int64         \n",
            " 7   verified        2000 non-null   int64         \n",
            "dtypes: datetime64[ns](1), int64(4), object(3)\n",
            "memory usage: 125.1+ KB\n"
          ],
          "name": "stdout"
        }
      ]
    },
    {
      "cell_type": "code",
      "metadata": {
        "id": "9tMZ6UuXzLob"
      },
      "source": [
        "dUs['name'] = dUs['name'].fillna('hai')"
      ],
      "execution_count": null,
      "outputs": []
    },
    {
      "cell_type": "code",
      "metadata": {
        "id": "2-fapqM-zwzr"
      },
      "source": [
        "dUs['location'] = dUs['location'].fillna('Indonesia')"
      ],
      "execution_count": null,
      "outputs": []
    },
    {
      "cell_type": "code",
      "metadata": {
        "id": "bSGNl3AY0mbg"
      },
      "source": [
        "dUs['accountcreated'] = pd.to_datetime(dUs['accountcreated'])\r\n",
        "dUs['accountcreated'] = dUs['accountcreated'].dt.strftime('%Y-%m-%d')\r\n",
        "dUs['accountcreated'] = pd.to_datetime(dUs['accountcreated'])"
      ],
      "execution_count": null,
      "outputs": []
    },
    {
      "cell_type": "code",
      "metadata": {
        "colab": {
          "base_uri": "https://localhost:8080/",
          "height": 406
        },
        "id": "AXywi_Dxz_mw",
        "outputId": "9c89a28f-67b3-4f71-ba32-0dfb03d445a6"
      },
      "source": [
        "dUs"
      ],
      "execution_count": null,
      "outputs": [
        {
          "output_type": "execute_result",
          "data": {
            "text/html": [
              "<div>\n",
              "<style scoped>\n",
              "    .dataframe tbody tr th:only-of-type {\n",
              "        vertical-align: middle;\n",
              "    }\n",
              "\n",
              "    .dataframe tbody tr th {\n",
              "        vertical-align: top;\n",
              "    }\n",
              "\n",
              "    .dataframe thead th {\n",
              "        text-align: right;\n",
              "    }\n",
              "</style>\n",
              "<table border=\"1\" class=\"dataframe\">\n",
              "  <thead>\n",
              "    <tr style=\"text-align: right;\">\n",
              "      <th></th>\n",
              "      <th>userid</th>\n",
              "      <th>name</th>\n",
              "      <th>screenname</th>\n",
              "      <th>location</th>\n",
              "      <th>accountcreated</th>\n",
              "      <th>follower</th>\n",
              "      <th>friend</th>\n",
              "      <th>verified</th>\n",
              "    </tr>\n",
              "  </thead>\n",
              "  <tbody>\n",
              "    <tr>\n",
              "      <th>0</th>\n",
              "      <td>892670807121330177</td>\n",
              "      <td>Ferdy Agusman</td>\n",
              "      <td>gusmanerdy</td>\n",
              "      <td>Medan</td>\n",
              "      <td>2017-08-02</td>\n",
              "      <td>6</td>\n",
              "      <td>14</td>\n",
              "      <td>0</td>\n",
              "    </tr>\n",
              "    <tr>\n",
              "      <th>1</th>\n",
              "      <td>277434635</td>\n",
              "      <td>Karina angelika</td>\n",
              "      <td>karigel13</td>\n",
              "      <td>between his lungs</td>\n",
              "      <td>2011-04-05</td>\n",
              "      <td>417</td>\n",
              "      <td>378</td>\n",
              "      <td>0</td>\n",
              "    </tr>\n",
              "    <tr>\n",
              "      <th>2</th>\n",
              "      <td>544170238</td>\n",
              "      <td>Kanjeng Sultan</td>\n",
              "      <td>ayiekkresna</td>\n",
              "      <td>Kota Surabaya, Jawa Timur</td>\n",
              "      <td>2012-04-03</td>\n",
              "      <td>590</td>\n",
              "      <td>333</td>\n",
              "      <td>0</td>\n",
              "    </tr>\n",
              "    <tr>\n",
              "      <th>3</th>\n",
              "      <td>1356180001888976899</td>\n",
              "      <td>UrExtacy</td>\n",
              "      <td>6hndrd6ty6</td>\n",
              "      <td>Bikini Bottom</td>\n",
              "      <td>2021-02-01</td>\n",
              "      <td>2</td>\n",
              "      <td>114</td>\n",
              "      <td>0</td>\n",
              "    </tr>\n",
              "    <tr>\n",
              "      <th>4</th>\n",
              "      <td>1168873359741874176</td>\n",
              "      <td>bela</td>\n",
              "      <td>twingkerbelll</td>\n",
              "      <td>Indonesia</td>\n",
              "      <td>2019-09-03</td>\n",
              "      <td>42</td>\n",
              "      <td>48</td>\n",
              "      <td>0</td>\n",
              "    </tr>\n",
              "    <tr>\n",
              "      <th>...</th>\n",
              "      <td>...</td>\n",
              "      <td>...</td>\n",
              "      <td>...</td>\n",
              "      <td>...</td>\n",
              "      <td>...</td>\n",
              "      <td>...</td>\n",
              "      <td>...</td>\n",
              "      <td>...</td>\n",
              "    </tr>\n",
              "    <tr>\n",
              "      <th>1995</th>\n",
              "      <td>1356663513024880641</td>\n",
              "      <td>Dania Putri</td>\n",
              "      <td>DaniaPu19568142</td>\n",
              "      <td>Indonesia</td>\n",
              "      <td>2021-02-02</td>\n",
              "      <td>5</td>\n",
              "      <td>0</td>\n",
              "      <td>0</td>\n",
              "    </tr>\n",
              "    <tr>\n",
              "      <th>1996</th>\n",
              "      <td>1270945722259529728</td>\n",
              "      <td>AL</td>\n",
              "      <td>rohfakboi</td>\n",
              "      <td>Indonesia</td>\n",
              "      <td>2020-06-11</td>\n",
              "      <td>34</td>\n",
              "      <td>105</td>\n",
              "      <td>0</td>\n",
              "    </tr>\n",
              "    <tr>\n",
              "      <th>1997</th>\n",
              "      <td>1291683283516850178</td>\n",
              "      <td>Rexsy Aprino Sanggen</td>\n",
              "      <td>rexsy_aprino</td>\n",
              "      <td>Central Borneo, Indonesia</td>\n",
              "      <td>2020-08-07</td>\n",
              "      <td>5</td>\n",
              "      <td>5</td>\n",
              "      <td>0</td>\n",
              "    </tr>\n",
              "    <tr>\n",
              "      <th>1998</th>\n",
              "      <td>1011527885876654080</td>\n",
              "      <td>pijat panggilan</td>\n",
              "      <td>SpaPanggilan</td>\n",
              "      <td>surabaya, malang, palembang,</td>\n",
              "      <td>2018-06-26</td>\n",
              "      <td>2072</td>\n",
              "      <td>222</td>\n",
              "      <td>0</td>\n",
              "    </tr>\n",
              "    <tr>\n",
              "      <th>1999</th>\n",
              "      <td>1011527885876654080</td>\n",
              "      <td>pijat panggilan</td>\n",
              "      <td>SpaPanggilan</td>\n",
              "      <td>surabaya, malang, palembang,</td>\n",
              "      <td>2018-06-26</td>\n",
              "      <td>2072</td>\n",
              "      <td>222</td>\n",
              "      <td>0</td>\n",
              "    </tr>\n",
              "  </tbody>\n",
              "</table>\n",
              "<p>2000 rows × 8 columns</p>\n",
              "</div>"
            ],
            "text/plain": [
              "                   userid                  name  ... friend verified\n",
              "0      892670807121330177         Ferdy Agusman  ...     14        0\n",
              "1               277434635       Karina angelika  ...    378        0\n",
              "2               544170238        Kanjeng Sultan  ...    333        0\n",
              "3     1356180001888976899              UrExtacy  ...    114        0\n",
              "4     1168873359741874176                  bela  ...     48        0\n",
              "...                   ...                   ...  ...    ...      ...\n",
              "1995  1356663513024880641           Dania Putri  ...      0        0\n",
              "1996  1270945722259529728                    AL  ...    105        0\n",
              "1997  1291683283516850178  Rexsy Aprino Sanggen  ...      5        0\n",
              "1998  1011527885876654080       pijat panggilan  ...    222        0\n",
              "1999  1011527885876654080       pijat panggilan  ...    222        0\n",
              "\n",
              "[2000 rows x 8 columns]"
            ]
          },
          "metadata": {
            "tags": []
          },
          "execution_count": 65
        }
      ]
    },
    {
      "cell_type": "code",
      "metadata": {
        "id": "uzJ_HPUx9QEC"
      },
      "source": [
        "dUs.to_csv('user.csv', index=False)"
      ],
      "execution_count": null,
      "outputs": []
    }
  ]
}