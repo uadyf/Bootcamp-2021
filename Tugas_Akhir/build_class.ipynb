{
  "nbformat": 4,
  "nbformat_minor": 0,
  "metadata": {
    "colab": {
      "name": "build_class_TA.ipynb",
      "provenance": [],
      "collapsed_sections": [],
      "authorship_tag": "ABX9TyPiTI6xIY8cJQ1KwHHxVN4z"
    },
    "kernelspec": {
      "name": "python3",
      "display_name": "Python 3"
    }
  },
  "cells": [
    {
      "cell_type": "code",
      "metadata": {
        "id": "XENKhn-A5NE2"
      },
      "source": [
        "#fahri.aulady101@gmail.com"
      ],
      "execution_count": 1,
      "outputs": []
    },
    {
      "cell_type": "code",
      "metadata": {
        "id": "ipB7qKXrO39b"
      },
      "source": [
        "!pip install twitter"
      ],
      "execution_count": null,
      "outputs": []
    },
    {
      "cell_type": "code",
      "metadata": {
        "id": "OENksw4k5oT0"
      },
      "source": [
        "import tweepy\r\n",
        "import pandas as pd\r\n",
        "import twitter\r\n",
        "\r\n",
        "class insertTweet:\r\n",
        "  def __init__(self, key, table, search):\r\n",
        "    self.key = key\r\n",
        "    self.table = table\r\n",
        "    self.search = search\r\n",
        "  \r\n",
        "  def Oath(self, print_key=False):\r\n",
        "    '''\r\n",
        "    0 = Consumer\r\n",
        "    1 = Consumer_secret\r\n",
        "    2 = Access\r\n",
        "    3 = Access_secret\r\n",
        "    '''\r\n",
        "    auth = tweepy.OAuthHandler(self.key[0], self.key[1])\r\n",
        "    auth.set_access_token(self.key[2], self.key[3])\r\n",
        "    api = tweepy.API(auth)\r\n",
        "    if print_key:\r\n",
        "      return f'Consumer: {self.key[0]}\\nConsumer_Secret: {self.key[1]}\\nAccess: {self.key[2]}\\nAcces_secret: {self.key[3]}'\r\n",
        "    return api\r\n",
        "  \r\n",
        "  def tb_tweet(self):    \r\n",
        "    api = Oath()\r\n",
        "    search = api.search(q=self.search, tweet_mode='extended')\r\n",
        "    tweet = []\r\n",
        "    id_tweet = []\r\n",
        "    id_user = []\r\n",
        "    created = []\r\n",
        "    for item in search:\r\n",
        "      tweet.append(search.text)\r\n",
        "      id_tweet.append(search.id)\r\n",
        "      id_user.append(search.user.id)\r\n",
        "      created.append(search.created_at)\r\n",
        "    \r\n",
        "    insert_data = f'''\r\n",
        "                  INSERT INTO Tweet (tweetid, userid, createddate,tweet)\r\n",
        "                  VALUES ({id_tweet},{id_user},{created},{tweet})\r\n",
        "                  '''\r\n",
        "\r\n",
        "  def tb_user(self):\r\n",
        "    api = twitter.Api(consumer_key=self.key[0],\r\n",
        "                      consumer_secret=self.key[1],\r\n",
        "                      access_token=self.key[2],\r\n",
        "                      access_secret=self.key[3])\r\n",
        "    users = self.all_tweet[1]\r\n",
        "    \r\n",
        "    id_user = []\r\n",
        "    name = []\r\n",
        "    screenname = []\r\n",
        "    location = []\r\n",
        "    created = []\r\n",
        "    follower = []\r\n",
        "    friend = []\r\n",
        "    verified = []\r\n",
        "    for user in users:\r\n",
        "      search = api.get_user(user)\r\n",
        "      \r\n",
        "      id_user.append(search.id)\r\n",
        "      name.append(search.name)\r\n",
        "      screenname.append(search.screen_name)\r\n",
        "      location.append(search.location)\r\n",
        "      created.append(search.created_at)\r\n",
        "      follower.append(search.followers_count)\r\n",
        "      friend.append(search.friends_count)\r\n",
        "      verified.append(search.verified)\r\n",
        "    \r\n",
        "    insert_data = f'''\r\n",
        "                  INSERT INTO\r\n",
        "                  (userid,name,screenname,location,accountcreated,follower,friend,verified)\r\n",
        "                  VALUES\r\n",
        "                  ({id_user},{name},{screenname},{location},{created},{follower},{friend},{verified})\r\n",
        "                  '''"
      ],
      "execution_count": null,
      "outputs": []
    }
  ]
}