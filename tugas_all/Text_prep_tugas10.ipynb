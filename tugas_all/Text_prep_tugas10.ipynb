{
 "metadata": {
  "language_info": {
   "codemirror_mode": {
    "name": "ipython",
    "version": 3
   },
   "file_extension": ".py",
   "mimetype": "text/x-python",
   "name": "python",
   "nbconvert_exporter": "python",
   "pygments_lexer": "ipython3",
   "version": "3.7.9-final"
  },
  "orig_nbformat": 2,
  "kernelspec": {
   "name": "python3",
   "display_name": "Python 3",
   "language": "python"
  }
 },
 "nbformat": 4,
 "nbformat_minor": 2,
 "cells": [
  {
   "cell_type": "code",
   "execution_count": 1,
   "metadata": {},
   "outputs": [],
   "source": [
    "import pandas as pd\n",
    "import string\n",
    "import re"
   ]
  },
  {
   "cell_type": "code",
   "execution_count": 2,
   "metadata": {},
   "outputs": [
    {
     "output_type": "execute_result",
     "data": {
      "text/plain": [
       "                                           Kompascom  \\\n",
       "0  \"Artinya paling lama pada 24 Maret 2021 seluru...   \n",
       "1  Dugaan korupsi yang dilakukan tersangka terkai...   \n",
       "2  Jepang masih menerapkan kondisi darurat pada b...   \n",
       "3  Internet heboh dengan pria bermasker yang meng...   \n",
       "4  Pada hari ini, Kamis (21/1/2021), Dinas Keseha...   \n",
       "\n",
       "                                       Pikiranrakyat  \n",
       "0  Hingga Hari ke-13, 43 Korban Korban Sriwijaya ...  \n",
       "1  ShopeePay di 2020: Masyarakat Nikmati Transaks...  \n",
       "2  Basarnas Secara Resmi Menutup Operasi SAR Sriw...  \n",
       "3  Gempa Guncang Sulut Lagi, Kini Berkekuatan Mag...  \n",
       "4  Hari Pertama Menjabat, Presiden AS Joe Biden A...  "
      ],
      "text/html": "<div>\n<style scoped>\n    .dataframe tbody tr th:only-of-type {\n        vertical-align: middle;\n    }\n\n    .dataframe tbody tr th {\n        vertical-align: top;\n    }\n\n    .dataframe thead th {\n        text-align: right;\n    }\n</style>\n<table border=\"1\" class=\"dataframe\">\n  <thead>\n    <tr style=\"text-align: right;\">\n      <th></th>\n      <th>Kompascom</th>\n      <th>Pikiranrakyat</th>\n    </tr>\n  </thead>\n  <tbody>\n    <tr>\n      <th>0</th>\n      <td>\"Artinya paling lama pada 24 Maret 2021 seluru...</td>\n      <td>Hingga Hari ke-13, 43 Korban Korban Sriwijaya ...</td>\n    </tr>\n    <tr>\n      <th>1</th>\n      <td>Dugaan korupsi yang dilakukan tersangka terkai...</td>\n      <td>ShopeePay di 2020: Masyarakat Nikmati Transaks...</td>\n    </tr>\n    <tr>\n      <th>2</th>\n      <td>Jepang masih menerapkan kondisi darurat pada b...</td>\n      <td>Basarnas Secara Resmi Menutup Operasi SAR Sriw...</td>\n    </tr>\n    <tr>\n      <th>3</th>\n      <td>Internet heboh dengan pria bermasker yang meng...</td>\n      <td>Gempa Guncang Sulut Lagi, Kini Berkekuatan Mag...</td>\n    </tr>\n    <tr>\n      <th>4</th>\n      <td>Pada hari ini, Kamis (21/1/2021), Dinas Keseha...</td>\n      <td>Hari Pertama Menjabat, Presiden AS Joe Biden A...</td>\n    </tr>\n  </tbody>\n</table>\n</div>"
     },
     "metadata": {},
     "execution_count": 2
    }
   ],
   "source": [
    "data = pd.read_csv('C:/Users/user/Documents/GitHub/Bootcamp-2021/tweet_file/tweet_berita.csv')\n",
    "data.head()"
   ]
  },
  {
   "cell_type": "code",
   "execution_count": 4,
   "metadata": {},
   "outputs": [
    {
     "output_type": "execute_result",
     "data": {
      "text/plain": [
       "                                           Kompascom  \\\n",
       "0  artinya paling lama maret seluruh perselisihan...   \n",
       "1  dugaan korupsi dilakukan tersangka terkait dan...   \n",
       "2  jepang masih menerapkan kondisi darurat berbag...   \n",
       "3  internet heboh pria bermasker mengenakan syal ...   \n",
       "4  hari ini kamis dinas kesehatan ada kasus posit...   \n",
       "\n",
       "                                       Pikiranrakyat  \n",
       "0  hingga hari korban korban sriwijaya air sj ber...  \n",
       "1  shopeepay di masyarakat nikmati transaksi offl...  \n",
       "2  basarnas secara resmi menutup operasi sar sriw...  \n",
       "3  gempa guncang sulut lagi kini berkekuatan magn...  \n",
       "4  hari pertama menjabat presiden as joe biden at...  "
      ],
      "text/html": "<div>\n<style scoped>\n    .dataframe tbody tr th:only-of-type {\n        vertical-align: middle;\n    }\n\n    .dataframe tbody tr th {\n        vertical-align: top;\n    }\n\n    .dataframe thead th {\n        text-align: right;\n    }\n</style>\n<table border=\"1\" class=\"dataframe\">\n  <thead>\n    <tr style=\"text-align: right;\">\n      <th></th>\n      <th>Kompascom</th>\n      <th>Pikiranrakyat</th>\n    </tr>\n  </thead>\n  <tbody>\n    <tr>\n      <th>0</th>\n      <td>artinya paling lama maret seluruh perselisihan...</td>\n      <td>hingga hari korban korban sriwijaya air sj ber...</td>\n    </tr>\n    <tr>\n      <th>1</th>\n      <td>dugaan korupsi dilakukan tersangka terkait dan...</td>\n      <td>shopeepay di masyarakat nikmati transaksi offl...</td>\n    </tr>\n    <tr>\n      <th>2</th>\n      <td>jepang masih menerapkan kondisi darurat berbag...</td>\n      <td>basarnas secara resmi menutup operasi sar sriw...</td>\n    </tr>\n    <tr>\n      <th>3</th>\n      <td>internet heboh pria bermasker mengenakan syal ...</td>\n      <td>gempa guncang sulut lagi kini berkekuatan magn...</td>\n    </tr>\n    <tr>\n      <th>4</th>\n      <td>hari ini kamis dinas kesehatan ada kasus posit...</td>\n      <td>hari pertama menjabat presiden as joe biden at...</td>\n    </tr>\n  </tbody>\n</table>\n</div>"
     },
     "metadata": {},
     "execution_count": 4
    }
   ],
   "source": [
    "column = [i for i in data.columns]\n",
    "stopwords =  ['dan', 'yang', 'untuk', 'pada', 'ke', 'karena', 'oleh', 'akan', 'dengan']\n",
    "final_data = pd.DataFrame()\n",
    "for col in column:\n",
    "    all_val = []\n",
    "    for val in data[str(col)].values:\n",
    "        lower = val.lower()\n",
    "        rm_num = re.sub(r\"^\\d+|^\\d+\\s|\\d+|\\s\\d+\\s|\\d+/\\d/\\d+|\\s\\d+|\\d+\\s|\\s\\d+$\", \" \", lower)\n",
    "        rm_punct = rm_num.translate(str.maketrans('', '', string.punctuation))\n",
    "        rm_whitespace = rm_punct.strip()\n",
    "        splited = rm_whitespace.split()\n",
    "        del splited[-1]\n",
    "        not_stopword = [word for word in splited if word not in stopwords]\n",
    "        join_all = ' '.join(not_stopword)\n",
    "        all_val.append(join_all)\n",
    "    final_data[str(col)] = all_val\n",
    "final_data.head()"
   ]
  },
  {
   "cell_type": "code",
   "execution_count": 5,
   "metadata": {},
   "outputs": [],
   "source": [
    "final_data.to_csv('C:/Users/user/Documents/GitHub/Bootcamp-2021/tweet_file/tweet_clean.csv', index=False)"
   ]
  }
 ]
}