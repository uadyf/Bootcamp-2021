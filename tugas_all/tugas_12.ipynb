{
  "nbformat": 4,
  "nbformat_minor": 0,
  "metadata": {
    "colab": {
      "name": "tugas_12.ipynb",
      "provenance": [],
      "collapsed_sections": [],
      "authorship_tag": "ABX9TyPIDXOVATlG2AJJiX3xf1M8"
    },
    "kernelspec": {
      "name": "python3",
      "display_name": "Python 3"
    }
  },
  "cells": [
    {
      "cell_type": "code",
      "metadata": {
        "id": "G3eZmW6QWm72"
      },
      "source": [
        "import pandas as pd\r\n",
        "import numpy as np\r\n",
        "import matplotlib.pyplot as plt\r\n",
        "import random\r\n",
        "from urllib import request\r\n",
        "from bs4 import BeautifulSoup as bs\r\n",
        "from sklearn.datasets import make_blobs\r\n",
        "from sklearn.cluster import KMeans\r\n",
        "from sklearn.metrics import silhouette_score"
      ],
      "execution_count": 80,
      "outputs": []
    },
    {
      "cell_type": "code",
      "metadata": {
        "id": "n7n8Pzg9YLTF"
      },
      "source": [
        "URL = 'https://pokemondb.net/pokedex/all'\r\n",
        "AGENT = 'Mozilla/5.0'\r\n",
        "\r\n",
        "req = request.Request(URL, headers={'user-agent':AGENT})\r\n",
        "html = request.urlopen(req)\r\n",
        "read = bs(html, 'html.parser')"
      ],
      "execution_count": 2,
      "outputs": []
    },
    {
      "cell_type": "code",
      "metadata": {
        "id": "Rfb4Af3dY3l-"
      },
      "source": [
        "table = read.find('table', {'id':'pokedex'})\r\n",
        "rows = read.findAll('tr')\r\n",
        "\r\n",
        "result = []\r\n",
        "for row in rows:\r\n",
        "  row_data = []\r\n",
        "  if row.contents[1].get_text() == '501':\r\n",
        "    break\r\n",
        "  for i in row.findAll(['th', 'td']):\r\n",
        "    row_data.append(i.get_text())\r\n",
        "  result.append(row_data)"
      ],
      "execution_count": 21,
      "outputs": []
    },
    {
      "cell_type": "code",
      "metadata": {
        "id": "VjEXxwLNdzAF"
      },
      "source": [
        "data = pd.DataFrame(result, columns=result[0])\r\n",
        "data = data[1:]\r\n",
        "data.to_csv('pokemon.csv', index=False)"
      ],
      "execution_count": 33,
      "outputs": []
    },
    {
      "cell_type": "code",
      "metadata": {
        "colab": {
          "base_uri": "https://localhost:8080/"
        },
        "id": "AUZt2IJ4hl43",
        "outputId": "2c0cd329-3147-448d-edb1-66bb58b93a64"
      },
      "source": [
        "df = pd.read_csv('pokemon.csv')\r\n",
        "df['Alog'] = np.log(pd.to_numeric(df['Attack']))\r\n",
        "df['Dlog'] = np.log(pd.to_numeric(df['Defense']))\r\n",
        "\r\n",
        "lg_data = df.iloc[:,10:]\r\n",
        "lg_array = np.array(lg_data)\r\n",
        "lg_array"
      ],
      "execution_count": 43,
      "outputs": [
        {
          "output_type": "execute_result",
          "data": {
            "text/plain": [
              "array([[3.8918203 , 3.8918203 ],\n",
              "       [4.12713439, 4.14313473],\n",
              "       [4.40671925, 4.41884061],\n",
              "       ...,\n",
              "       [4.14313473, 3.80666249],\n",
              "       [4.53259949, 4.00733319],\n",
              "       [4.81218436, 4.17438727]])"
            ]
          },
          "metadata": {
            "tags": []
          },
          "execution_count": 43
        }
      ]
    },
    {
      "cell_type": "code",
      "metadata": {
        "colab": {
          "base_uri": "https://localhost:8080/"
        },
        "id": "kQHqHtwrrgKG",
        "outputId": "09a85271-e15e-4c4c-95b3-cc5d3b801d7e"
      },
      "source": [
        "x,y = make_blobs(n_samples=500, n_features=2, random_state=42, centers=3)\r\n",
        "y"
      ],
      "execution_count": 77,
      "outputs": [
        {
          "output_type": "execute_result",
          "data": {
            "text/plain": [
              "array([2, 1, 1, 0, 1, 1, 2, 1, 1, 2, 1, 0, 0, 0, 1, 1, 0, 2, 2, 0, 1, 0,\n",
              "       1, 2, 2, 1, 1, 2, 2, 0, 1, 0, 0, 0, 1, 1, 1, 1, 2, 2, 1, 0, 0, 0,\n",
              "       0, 1, 1, 1, 1, 2, 2, 0, 2, 2, 1, 0, 0, 2, 1, 2, 2, 0, 1, 2, 1, 2,\n",
              "       1, 2, 0, 1, 1, 1, 1, 2, 0, 2, 0, 1, 0, 0, 2, 0, 1, 0, 2, 2, 2, 2,\n",
              "       1, 0, 2, 1, 0, 1, 1, 2, 0, 0, 0, 2, 1, 0, 0, 2, 2, 0, 0, 2, 0, 2,\n",
              "       2, 2, 2, 2, 2, 1, 0, 2, 1, 2, 0, 0, 1, 1, 2, 1, 0, 1, 2, 2, 2, 1,\n",
              "       1, 2, 1, 2, 2, 2, 1, 0, 2, 2, 1, 1, 2, 2, 2, 0, 0, 0, 1, 2, 1, 1,\n",
              "       0, 2, 0, 2, 1, 1, 2, 2, 0, 0, 2, 0, 0, 1, 2, 2, 2, 0, 0, 2, 2, 0,\n",
              "       0, 1, 1, 1, 0, 2, 0, 0, 2, 2, 0, 1, 0, 2, 2, 2, 2, 2, 0, 1, 0, 0,\n",
              "       2, 1, 0, 0, 2, 2, 1, 2, 1, 0, 0, 2, 2, 1, 2, 0, 0, 2, 0, 2, 0, 1,\n",
              "       1, 0, 2, 0, 1, 0, 0, 2, 1, 1, 1, 1, 0, 2, 2, 2, 0, 1, 0, 1, 1, 1,\n",
              "       0, 0, 2, 2, 1, 0, 0, 1, 0, 0, 0, 0, 1, 0, 2, 0, 2, 0, 0, 0, 2, 0,\n",
              "       1, 1, 1, 0, 1, 1, 0, 0, 1, 2, 0, 0, 0, 0, 2, 2, 0, 1, 0, 0, 2, 0,\n",
              "       1, 2, 1, 1, 2, 0, 0, 0, 2, 0, 2, 1, 1, 0, 1, 2, 1, 1, 0, 1, 1, 1,\n",
              "       1, 0, 1, 2, 1, 1, 1, 2, 2, 1, 1, 0, 2, 1, 1, 2, 2, 2, 1, 2, 2, 2,\n",
              "       2, 2, 0, 2, 0, 2, 0, 0, 2, 0, 1, 1, 0, 0, 1, 0, 1, 0, 1, 1, 1, 0,\n",
              "       1, 2, 2, 1, 2, 0, 1, 0, 1, 0, 1, 1, 2, 0, 1, 1, 0, 2, 0, 2, 0, 1,\n",
              "       2, 0, 2, 1, 2, 2, 1, 2, 0, 1, 2, 2, 0, 1, 2, 1, 2, 1, 0, 0, 1, 2,\n",
              "       1, 0, 0, 0, 1, 2, 1, 0, 1, 1, 2, 2, 1, 1, 2, 0, 1, 2, 0, 1, 0, 0,\n",
              "       1, 0, 0, 0, 2, 2, 1, 0, 1, 2, 0, 0, 1, 2, 1, 1, 2, 2, 1, 2, 0, 0,\n",
              "       2, 1, 2, 0, 0, 2, 1, 2, 0, 0, 1, 2, 0, 1, 1, 1, 1, 1, 0, 1, 2, 1,\n",
              "       2, 1, 0, 0, 0, 1, 1, 0, 2, 2, 0, 0, 2, 2, 0, 2, 1, 1, 0, 0, 2, 2,\n",
              "       0, 1, 2, 2, 1, 2, 2, 0, 2, 1, 0, 2, 0, 1, 2, 1])"
            ]
          },
          "metadata": {
            "tags": []
          },
          "execution_count": 77
        }
      ]
    },
    {
      "cell_type": "code",
      "metadata": {
        "colab": {
          "base_uri": "https://localhost:8080/"
        },
        "id": "FMA690_o0vQv",
        "outputId": "b8366db5-dd9d-499b-f860-14dc06650abd"
      },
      "source": [
        "k_list = []\r\n",
        "score_all = []\r\n",
        "for k in range(1,12):\r\n",
        "  score = 0\r\n",
        "\r\n",
        "  kmean = KMeans(n_clusters=k).fit(x)\r\n",
        "  center = kmean.cluster_centers_\r\n",
        "  predict = kmean.predict(x)\r\n",
        "\r\n",
        "  for i in range(len(x)):\r\n",
        "    dot_center = center[predict[i]]\r\n",
        "    score += (x[i,0] - dot_center[0])**2 + (x[i,1] - dot_center[1])**2\r\n",
        "  score_all.append(score)\r\n",
        "  k_list.append(k)\r\n",
        "\r\n",
        "score_all[:6]"
      ],
      "execution_count": 74,
      "outputs": [
        {
          "output_type": "execute_result",
          "data": {
            "text/plain": [
              "[32911.669812516135,\n",
              " 9410.490154388162,\n",
              " 955.6493433489617,\n",
              " 835.2496567726553,\n",
              " 730.4352144114741,\n",
              " 615.202838672829]"
            ]
          },
          "metadata": {
            "tags": []
          },
          "execution_count": 74
        }
      ]
    },
    {
      "cell_type": "code",
      "metadata": {
        "colab": {
          "base_uri": "https://localhost:8080/",
          "height": 391
        },
        "id": "DkGJdfFc4lcc",
        "outputId": "07f187c2-6cc8-4933-969f-e6e556711e27"
      },
      "source": [
        "plt.figure(figsize=(10,6))\r\n",
        "plt.plot(k_list, score_all)"
      ],
      "execution_count": 75,
      "outputs": [
        {
          "output_type": "execute_result",
          "data": {
            "text/plain": [
              "[<matplotlib.lines.Line2D at 0x7fcaf24f5940>]"
            ]
          },
          "metadata": {
            "tags": []
          },
          "execution_count": 75
        },
        {
          "output_type": "display_data",
          "data": {
            "image/png": "[encoded data removed]",
            "text/plain": [
              "<Figure size 720x432 with 1 Axes>"
            ]
          },
          "metadata": {
            "tags": [],
            "needs_background": "light"
          }
        }
      ]
    },
    {
      "cell_type": "code",
      "metadata": {
        "colab": {
          "base_uri": "https://localhost:8080/"
        },
        "id": "4D99vxd68a9v",
        "outputId": "2f481ea0-ff09-4818-ae77-039e7ea79503"
      },
      "source": [
        "y"
      ],
      "execution_count": 81,
      "outputs": [
        {
          "output_type": "execute_result",
          "data": {
            "text/plain": [
              "array([2, 1, 1, 0, 1, 1, 2, 1, 1, 2, 1, 0, 0, 0, 1, 1, 0, 2, 2, 0, 1, 0,\n",
              "       1, 2, 2, 1, 1, 2, 2, 0, 1, 0, 0, 0, 1, 1, 1, 1, 2, 2, 1, 0, 0, 0,\n",
              "       0, 1, 1, 1, 1, 2, 2, 0, 2, 2, 1, 0, 0, 2, 1, 2, 2, 0, 1, 2, 1, 2,\n",
              "       1, 2, 0, 1, 1, 1, 1, 2, 0, 2, 0, 1, 0, 0, 2, 0, 1, 0, 2, 2, 2, 2,\n",
              "       1, 0, 2, 1, 0, 1, 1, 2, 0, 0, 0, 2, 1, 0, 0, 2, 2, 0, 0, 2, 0, 2,\n",
              "       2, 2, 2, 2, 2, 1, 0, 2, 1, 2, 0, 0, 1, 1, 2, 1, 0, 1, 2, 2, 2, 1,\n",
              "       1, 2, 1, 2, 2, 2, 1, 0, 2, 2, 1, 1, 2, 2, 2, 0, 0, 0, 1, 2, 1, 1,\n",
              "       0, 2, 0, 2, 1, 1, 2, 2, 0, 0, 2, 0, 0, 1, 2, 2, 2, 0, 0, 2, 2, 0,\n",
              "       0, 1, 1, 1, 0, 2, 0, 0, 2, 2, 0, 1, 0, 2, 2, 2, 2, 2, 0, 1, 0, 0,\n",
              "       2, 1, 0, 0, 2, 2, 1, 2, 1, 0, 0, 2, 2, 1, 2, 0, 0, 2, 0, 2, 0, 1,\n",
              "       1, 0, 2, 0, 1, 0, 0, 2, 1, 1, 1, 1, 0, 2, 2, 2, 0, 1, 0, 1, 1, 1,\n",
              "       0, 0, 2, 2, 1, 0, 0, 1, 0, 0, 0, 0, 1, 0, 2, 0, 2, 0, 0, 0, 2, 0,\n",
              "       1, 1, 1, 0, 1, 1, 0, 0, 1, 2, 0, 0, 0, 0, 2, 2, 0, 1, 0, 0, 2, 0,\n",
              "       1, 2, 1, 1, 2, 0, 0, 0, 2, 0, 2, 1, 1, 0, 1, 2, 1, 1, 0, 1, 1, 1,\n",
              "       1, 0, 1, 2, 1, 1, 1, 2, 2, 1, 1, 0, 2, 1, 1, 2, 2, 2, 1, 2, 2, 2,\n",
              "       2, 2, 0, 2, 0, 2, 0, 0, 2, 0, 1, 1, 0, 0, 1, 0, 1, 0, 1, 1, 1, 0,\n",
              "       1, 2, 2, 1, 2, 0, 1, 0, 1, 0, 1, 1, 2, 0, 1, 1, 0, 2, 0, 2, 0, 1,\n",
              "       2, 0, 2, 1, 2, 2, 1, 2, 0, 1, 2, 2, 0, 1, 2, 1, 2, 1, 0, 0, 1, 2,\n",
              "       1, 0, 0, 0, 1, 2, 1, 0, 1, 1, 2, 2, 1, 1, 2, 0, 1, 2, 0, 1, 0, 0,\n",
              "       1, 0, 0, 0, 2, 2, 1, 0, 1, 2, 0, 0, 1, 2, 1, 1, 2, 2, 1, 2, 0, 0,\n",
              "       2, 1, 2, 0, 0, 2, 1, 2, 0, 0, 1, 2, 0, 1, 1, 1, 1, 1, 0, 1, 2, 1,\n",
              "       2, 1, 0, 0, 0, 1, 1, 0, 2, 2, 0, 0, 2, 2, 0, 2, 1, 1, 0, 0, 2, 2,\n",
              "       0, 1, 2, 2, 1, 2, 2, 0, 2, 1, 0, 2, 0, 1, 2, 1])"
            ]
          },
          "metadata": {
            "tags": []
          },
          "execution_count": 81
        }
      ]
    },
    {
      "cell_type": "code",
      "metadata": {
        "colab": {
          "base_uri": "https://localhost:8080/",
          "height": 197
        },
        "id": "CzI5I--97sws",
        "outputId": "954cf238-665f-487c-ce6a-4c323cd857bc"
      },
      "source": [
        "lg_array = lg_array\r\n",
        "label = np.array([random.randint(0,2) for i in range(len(lg_array))])\r\n",
        "km = KMeans(n_clusters=3).fit(lg_array)\r\n",
        "df['kluster'] = km.labels_\r\n",
        "df.head()"
      ],
      "execution_count": 84,
      "outputs": [
        {
          "output_type": "execute_result",
          "data": {
            "text/html": [
              "<div>\n",
              "<style scoped>\n",
              "    .dataframe tbody tr th:only-of-type {\n",
              "        vertical-align: middle;\n",
              "    }\n",
              "\n",
              "    .dataframe tbody tr th {\n",
              "        vertical-align: top;\n",
              "    }\n",
              "\n",
              "    .dataframe thead th {\n",
              "        text-align: right;\n",
              "    }\n",
              "</style>\n",
              "<table border=\"1\" class=\"dataframe\">\n",
              "  <thead>\n",
              "    <tr style=\"text-align: right;\">\n",
              "      <th></th>\n",
              "      <th>#</th>\n",
              "      <th>Name</th>\n",
              "      <th>Type</th>\n",
              "      <th>Total</th>\n",
              "      <th>HP</th>\n",
              "      <th>Attack</th>\n",
              "      <th>Defense</th>\n",
              "      <th>Sp. Atk</th>\n",
              "      <th>Sp. Def</th>\n",
              "      <th>Speed</th>\n",
              "      <th>Alog</th>\n",
              "      <th>Dlog</th>\n",
              "      <th>kluster</th>\n",
              "    </tr>\n",
              "  </thead>\n",
              "  <tbody>\n",
              "    <tr>\n",
              "      <th>0</th>\n",
              "      <td>1</td>\n",
              "      <td>Bulbasaur</td>\n",
              "      <td>Grass Poison</td>\n",
              "      <td>318</td>\n",
              "      <td>45</td>\n",
              "      <td>49</td>\n",
              "      <td>49</td>\n",
              "      <td>65</td>\n",
              "      <td>65</td>\n",
              "      <td>45</td>\n",
              "      <td>3.891820</td>\n",
              "      <td>3.891820</td>\n",
              "      <td>2</td>\n",
              "    </tr>\n",
              "    <tr>\n",
              "      <th>1</th>\n",
              "      <td>2</td>\n",
              "      <td>Ivysaur</td>\n",
              "      <td>Grass Poison</td>\n",
              "      <td>405</td>\n",
              "      <td>60</td>\n",
              "      <td>62</td>\n",
              "      <td>63</td>\n",
              "      <td>80</td>\n",
              "      <td>80</td>\n",
              "      <td>60</td>\n",
              "      <td>4.127134</td>\n",
              "      <td>4.143135</td>\n",
              "      <td>2</td>\n",
              "    </tr>\n",
              "    <tr>\n",
              "      <th>2</th>\n",
              "      <td>3</td>\n",
              "      <td>Venusaur</td>\n",
              "      <td>Grass Poison</td>\n",
              "      <td>525</td>\n",
              "      <td>80</td>\n",
              "      <td>82</td>\n",
              "      <td>83</td>\n",
              "      <td>100</td>\n",
              "      <td>100</td>\n",
              "      <td>80</td>\n",
              "      <td>4.406719</td>\n",
              "      <td>4.418841</td>\n",
              "      <td>1</td>\n",
              "    </tr>\n",
              "    <tr>\n",
              "      <th>3</th>\n",
              "      <td>3</td>\n",
              "      <td>Venusaur Mega Venusaur</td>\n",
              "      <td>Grass Poison</td>\n",
              "      <td>625</td>\n",
              "      <td>80</td>\n",
              "      <td>100</td>\n",
              "      <td>123</td>\n",
              "      <td>122</td>\n",
              "      <td>120</td>\n",
              "      <td>80</td>\n",
              "      <td>4.605170</td>\n",
              "      <td>4.812184</td>\n",
              "      <td>1</td>\n",
              "    </tr>\n",
              "    <tr>\n",
              "      <th>4</th>\n",
              "      <td>4</td>\n",
              "      <td>Charmander</td>\n",
              "      <td>Fire</td>\n",
              "      <td>309</td>\n",
              "      <td>39</td>\n",
              "      <td>52</td>\n",
              "      <td>43</td>\n",
              "      <td>60</td>\n",
              "      <td>50</td>\n",
              "      <td>65</td>\n",
              "      <td>3.951244</td>\n",
              "      <td>3.761200</td>\n",
              "      <td>2</td>\n",
              "    </tr>\n",
              "  </tbody>\n",
              "</table>\n",
              "</div>"
            ],
            "text/plain": [
              "   #                    Name          Type  ...      Alog      Dlog  kluster\n",
              "0  1               Bulbasaur  Grass Poison  ...  3.891820  3.891820        2\n",
              "1  2                 Ivysaur  Grass Poison  ...  4.127134  4.143135        2\n",
              "2  3                Venusaur  Grass Poison  ...  4.406719  4.418841        1\n",
              "3  3  Venusaur Mega Venusaur  Grass Poison  ...  4.605170  4.812184        1\n",
              "4  4              Charmander         Fire   ...  3.951244  3.761200        2\n",
              "\n",
              "[5 rows x 13 columns]"
            ]
          },
          "metadata": {
            "tags": []
          },
          "execution_count": 84
        }
      ]
    }
  ]
}